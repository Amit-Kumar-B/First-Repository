{
 "cells": [
  {
   "cell_type": "markdown",
   "metadata": {},
   "source": [
    "## Importing dataset and exploration"
   ]
  },
  {
   "cell_type": "code",
   "execution_count": 1,
   "metadata": {},
   "outputs": [],
   "source": [
    "import numpy as np\n",
    "import matplotlib.pyplot as plt\n",
    "import pandas \n",
    "import seaborn as sns"
   ]
  },
  {
   "cell_type": "code",
   "execution_count": 2,
   "metadata": {},
   "outputs": [],
   "source": [
    "data = pandas.read_csv('Volkswagen price.csv')                 # Improting data set"
   ]
  },
  {
   "cell_type": "code",
   "execution_count": 3,
   "metadata": {},
   "outputs": [
    {
     "data": {
      "text/plain": [
       "(15157, 9)"
      ]
     },
     "execution_count": 3,
     "metadata": {},
     "output_type": "execute_result"
    }
   ],
   "source": [
    "data.shape # Getting data shape "
   ]
  },
  {
   "cell_type": "markdown",
   "metadata": {},
   "source": [
    "## The objective is to predict the price of Volkswagen cars and build regression models with high accuracy"
   ]
  },
  {
   "cell_type": "code",
   "execution_count": 4,
   "metadata": {},
   "outputs": [
    {
     "data": {
      "text/html": [
       "<div>\n",
       "<style scoped>\n",
       "    .dataframe tbody tr th:only-of-type {\n",
       "        vertical-align: middle;\n",
       "    }\n",
       "\n",
       "    .dataframe tbody tr th {\n",
       "        vertical-align: top;\n",
       "    }\n",
       "\n",
       "    .dataframe thead th {\n",
       "        text-align: right;\n",
       "    }\n",
       "</style>\n",
       "<table border=\"1\" class=\"dataframe\">\n",
       "  <thead>\n",
       "    <tr style=\"text-align: right;\">\n",
       "      <th></th>\n",
       "      <th>model</th>\n",
       "      <th>year</th>\n",
       "      <th>price</th>\n",
       "      <th>transmission</th>\n",
       "      <th>mileage</th>\n",
       "      <th>fuelType</th>\n",
       "      <th>tax</th>\n",
       "      <th>mpg</th>\n",
       "      <th>engineSize</th>\n",
       "    </tr>\n",
       "  </thead>\n",
       "  <tbody>\n",
       "    <tr>\n",
       "      <th>0</th>\n",
       "      <td>T-Roc</td>\n",
       "      <td>2019</td>\n",
       "      <td>25000</td>\n",
       "      <td>Automatic</td>\n",
       "      <td>13904</td>\n",
       "      <td>Diesel</td>\n",
       "      <td>145</td>\n",
       "      <td>49.6</td>\n",
       "      <td>2.0</td>\n",
       "    </tr>\n",
       "    <tr>\n",
       "      <th>1</th>\n",
       "      <td>T-Roc</td>\n",
       "      <td>2019</td>\n",
       "      <td>26883</td>\n",
       "      <td>Automatic</td>\n",
       "      <td>4562</td>\n",
       "      <td>Diesel</td>\n",
       "      <td>145</td>\n",
       "      <td>49.6</td>\n",
       "      <td>2.0</td>\n",
       "    </tr>\n",
       "    <tr>\n",
       "      <th>2</th>\n",
       "      <td>T-Roc</td>\n",
       "      <td>2019</td>\n",
       "      <td>20000</td>\n",
       "      <td>Manual</td>\n",
       "      <td>7414</td>\n",
       "      <td>Diesel</td>\n",
       "      <td>145</td>\n",
       "      <td>50.4</td>\n",
       "      <td>2.0</td>\n",
       "    </tr>\n",
       "    <tr>\n",
       "      <th>3</th>\n",
       "      <td>T-Roc</td>\n",
       "      <td>2019</td>\n",
       "      <td>33492</td>\n",
       "      <td>Automatic</td>\n",
       "      <td>4825</td>\n",
       "      <td>Petrol</td>\n",
       "      <td>145</td>\n",
       "      <td>32.5</td>\n",
       "      <td>2.0</td>\n",
       "    </tr>\n",
       "    <tr>\n",
       "      <th>4</th>\n",
       "      <td>T-Roc</td>\n",
       "      <td>2019</td>\n",
       "      <td>22900</td>\n",
       "      <td>Semi-Auto</td>\n",
       "      <td>6500</td>\n",
       "      <td>Petrol</td>\n",
       "      <td>150</td>\n",
       "      <td>39.8</td>\n",
       "      <td>1.5</td>\n",
       "    </tr>\n",
       "  </tbody>\n",
       "</table>\n",
       "</div>"
      ],
      "text/plain": [
       "    model  year  price transmission  mileage fuelType  tax   mpg  engineSize\n",
       "0   T-Roc  2019  25000    Automatic    13904   Diesel  145  49.6         2.0\n",
       "1   T-Roc  2019  26883    Automatic     4562   Diesel  145  49.6         2.0\n",
       "2   T-Roc  2019  20000       Manual     7414   Diesel  145  50.4         2.0\n",
       "3   T-Roc  2019  33492    Automatic     4825   Petrol  145  32.5         2.0\n",
       "4   T-Roc  2019  22900    Semi-Auto     6500   Petrol  150  39.8         1.5"
      ]
     },
     "execution_count": 4,
     "metadata": {},
     "output_type": "execute_result"
    }
   ],
   "source": [
    "data.head() # Getting overview of actual data"
   ]
  },
  {
   "cell_type": "markdown",
   "metadata": {},
   "source": [
    "### MPG, or miles per gallon, is the distance, measured in miles, that a car can travel per gallon(1 gallon=3.78 litre) of fuel. MPG is also the primary measurement of a car's fuel efficiency: The higher a car's MPG, the more fuel efficient it is.\n",
    "\n",
    "### Engine Size is in cubic inches in US"
   ]
  },
  {
   "cell_type": "code",
   "execution_count": 6,
   "metadata": {},
   "outputs": [
    {
     "data": {
      "text/plain": [
       "model           0\n",
       "year            0\n",
       "price           0\n",
       "transmission    0\n",
       "mileage         0\n",
       "fuelType        0\n",
       "tax             0\n",
       "mpg             0\n",
       "engineSize      0\n",
       "dtype: int64"
      ]
     },
     "execution_count": 6,
     "metadata": {},
     "output_type": "execute_result"
    }
   ],
   "source": [
    "data.isnull().sum()"
   ]
  },
  {
   "cell_type": "code",
   "execution_count": 7,
   "metadata": {},
   "outputs": [
    {
     "data": {
      "text/html": [
       "<div>\n",
       "<style scoped>\n",
       "    .dataframe tbody tr th:only-of-type {\n",
       "        vertical-align: middle;\n",
       "    }\n",
       "\n",
       "    .dataframe tbody tr th {\n",
       "        vertical-align: top;\n",
       "    }\n",
       "\n",
       "    .dataframe thead th {\n",
       "        text-align: right;\n",
       "    }\n",
       "</style>\n",
       "<table border=\"1\" class=\"dataframe\">\n",
       "  <thead>\n",
       "    <tr style=\"text-align: right;\">\n",
       "      <th></th>\n",
       "      <th>year</th>\n",
       "      <th>price</th>\n",
       "      <th>mileage</th>\n",
       "      <th>tax</th>\n",
       "      <th>mpg</th>\n",
       "      <th>engineSize</th>\n",
       "    </tr>\n",
       "  </thead>\n",
       "  <tbody>\n",
       "    <tr>\n",
       "      <th>count</th>\n",
       "      <td>15157.000000</td>\n",
       "      <td>15157.000000</td>\n",
       "      <td>15157.000000</td>\n",
       "      <td>15157.000000</td>\n",
       "      <td>15157.000000</td>\n",
       "      <td>15157.000000</td>\n",
       "    </tr>\n",
       "    <tr>\n",
       "      <th>mean</th>\n",
       "      <td>2017.255789</td>\n",
       "      <td>16838.952365</td>\n",
       "      <td>22092.785644</td>\n",
       "      <td>112.744277</td>\n",
       "      <td>53.753355</td>\n",
       "      <td>1.600693</td>\n",
       "    </tr>\n",
       "    <tr>\n",
       "      <th>std</th>\n",
       "      <td>2.053059</td>\n",
       "      <td>7755.015206</td>\n",
       "      <td>21148.941635</td>\n",
       "      <td>63.482617</td>\n",
       "      <td>13.642182</td>\n",
       "      <td>0.461695</td>\n",
       "    </tr>\n",
       "    <tr>\n",
       "      <th>min</th>\n",
       "      <td>2000.000000</td>\n",
       "      <td>899.000000</td>\n",
       "      <td>1.000000</td>\n",
       "      <td>0.000000</td>\n",
       "      <td>0.300000</td>\n",
       "      <td>0.000000</td>\n",
       "    </tr>\n",
       "    <tr>\n",
       "      <th>25%</th>\n",
       "      <td>2016.000000</td>\n",
       "      <td>10990.000000</td>\n",
       "      <td>5962.000000</td>\n",
       "      <td>30.000000</td>\n",
       "      <td>46.300000</td>\n",
       "      <td>1.200000</td>\n",
       "    </tr>\n",
       "    <tr>\n",
       "      <th>50%</th>\n",
       "      <td>2017.000000</td>\n",
       "      <td>15497.000000</td>\n",
       "      <td>16393.000000</td>\n",
       "      <td>145.000000</td>\n",
       "      <td>53.300000</td>\n",
       "      <td>1.600000</td>\n",
       "    </tr>\n",
       "    <tr>\n",
       "      <th>75%</th>\n",
       "      <td>2019.000000</td>\n",
       "      <td>20998.000000</td>\n",
       "      <td>31824.000000</td>\n",
       "      <td>145.000000</td>\n",
       "      <td>60.100000</td>\n",
       "      <td>2.000000</td>\n",
       "    </tr>\n",
       "    <tr>\n",
       "      <th>max</th>\n",
       "      <td>2020.000000</td>\n",
       "      <td>69994.000000</td>\n",
       "      <td>212000.000000</td>\n",
       "      <td>580.000000</td>\n",
       "      <td>188.300000</td>\n",
       "      <td>3.200000</td>\n",
       "    </tr>\n",
       "  </tbody>\n",
       "</table>\n",
       "</div>"
      ],
      "text/plain": [
       "               year         price        mileage           tax           mpg  \\\n",
       "count  15157.000000  15157.000000   15157.000000  15157.000000  15157.000000   \n",
       "mean    2017.255789  16838.952365   22092.785644    112.744277     53.753355   \n",
       "std        2.053059   7755.015206   21148.941635     63.482617     13.642182   \n",
       "min     2000.000000    899.000000       1.000000      0.000000      0.300000   \n",
       "25%     2016.000000  10990.000000    5962.000000     30.000000     46.300000   \n",
       "50%     2017.000000  15497.000000   16393.000000    145.000000     53.300000   \n",
       "75%     2019.000000  20998.000000   31824.000000    145.000000     60.100000   \n",
       "max     2020.000000  69994.000000  212000.000000    580.000000    188.300000   \n",
       "\n",
       "         engineSize  \n",
       "count  15157.000000  \n",
       "mean       1.600693  \n",
       "std        0.461695  \n",
       "min        0.000000  \n",
       "25%        1.200000  \n",
       "50%        1.600000  \n",
       "75%        2.000000  \n",
       "max        3.200000  "
      ]
     },
     "execution_count": 7,
     "metadata": {},
     "output_type": "execute_result"
    }
   ],
   "source": [
    "data.describe() # Measure of Central tendency"
   ]
  },
  {
   "cell_type": "markdown",
   "metadata": {},
   "source": [
    "## Exploratory data analysis"
   ]
  },
  {
   "cell_type": "code",
   "execution_count": 8,
   "metadata": {},
   "outputs": [
    {
     "name": "stderr",
     "output_type": "stream",
     "text": [
      "C:\\Users\\User\\anaconda3\\lib\\site-packages\\seaborn\\_decorators.py:36: FutureWarning: Pass the following variable as a keyword arg: x. From version 0.12, the only valid positional argument will be `data`, and passing other arguments without an explicit keyword will result in an error or misinterpretation.\n",
      "  warnings.warn(\n"
     ]
    },
    {
     "data": {
      "text/plain": [
       "<AxesSubplot:xlabel='transmission', ylabel='count'>"
      ]
     },
     "execution_count": 8,
     "metadata": {},
     "output_type": "execute_result"
    },
    {
     "data": {
      "image/png": "[encoded data removed]",
      "text/plain": [
       "<Figure size 432x288 with 1 Axes>"
      ]
     },
     "metadata": {
      "needs_background": "light"
     },
     "output_type": "display_data"
    }
   ],
   "source": [
    "sns.countplot(data[\"transmission\"])"
   ]
  },
  {
   "cell_type": "markdown",
   "metadata": {},
   "source": [
    "### This chart shows that there are most of the cars with manual transmission then semi auto and less automatic cars in the dataset."
   ]
  },
  {
   "cell_type": "code",
   "execution_count": 9,
   "metadata": {},
   "outputs": [
    {
     "data": {
      "text/plain": [
       "<AxesSubplot:xlabel='count', ylabel='model'>"
      ]
     },
     "execution_count": 9,
     "metadata": {},
     "output_type": "execute_result"
    },
    {
     "data": {
      "image/png": "[encoded data removed]",
      "text/plain": [
       "<Figure size 432x288 with 1 Axes>"
      ]
     },
     "metadata": {
      "needs_background": "light"
     },
     "output_type": "display_data"
    }
   ],
   "source": [
    "sns.countplot(y = data[\"model\"])                                # Creating bar chart of Car models"
   ]
  },
  {
   "cell_type": "markdown",
   "metadata": {},
   "source": [
    "### There are top 3 cars are Golf, Polo and Tiguan in the dataset constitute most of all the VW cars with all other cars contribution. "
   ]
  },
  {
   "cell_type": "code",
   "execution_count": 10,
   "metadata": {
    "scrolled": true
   },
   "outputs": [
    {
     "name": "stderr",
     "output_type": "stream",
     "text": [
      "C:\\Users\\User\\anaconda3\\lib\\site-packages\\seaborn\\_decorators.py:36: FutureWarning: Pass the following variable as a keyword arg: x. From version 0.12, the only valid positional argument will be `data`, and passing other arguments without an explicit keyword will result in an error or misinterpretation.\n",
      "  warnings.warn(\n"
     ]
    },
    {
     "data": {
      "text/plain": [
       "<AxesSubplot:xlabel='fuelType', ylabel='count'>"
      ]
     },
     "execution_count": 10,
     "metadata": {},
     "output_type": "execute_result"
    },
    {
     "data": {
      "image/png": "[encoded data removed]",
      "text/plain": [
       "<Figure size 432x288 with 1 Axes>"
      ]
     },
     "metadata": {
      "needs_background": "light"
     },
     "output_type": "display_data"
    }
   ],
   "source": [
    "sns.countplot(data[\"fuelType\"])"
   ]
  },
  {
   "cell_type": "code",
   "execution_count": 11,
   "metadata": {},
   "outputs": [
    {
     "data": {
      "text/plain": [
       "<AxesSubplot:xlabel='year', ylabel='price'>"
      ]
     },
     "execution_count": 11,
     "metadata": {},
     "output_type": "execute_result"
    },
    {
     "data": {
      "image/png": "[encoded data removed]",
      "text/plain": [
       "<Figure size 1080x360 with 1 Axes>"
      ]
     },
     "metadata": {},
     "output_type": "display_data"
    }
   ],
   "source": [
    "plt.figure(figsize=(15,5),facecolor='w') \n",
    "sns.barplot(x = data[\"year\"], y = data[\"price\"])"
   ]
  },
  {
   "cell_type": "markdown",
   "metadata": {},
   "source": [
    "### It shows that the recently manufactured cars (year = 2018, 2019 & 2020) are sold for more than average price as compared to the cars that are manufactured earlier."
   ]
  },
  {
   "cell_type": "code",
   "execution_count": 12,
   "metadata": {},
   "outputs": [
    {
     "data": {
      "text/html": [
       "<div>\n",
       "<style scoped>\n",
       "    .dataframe tbody tr th:only-of-type {\n",
       "        vertical-align: middle;\n",
       "    }\n",
       "\n",
       "    .dataframe tbody tr th {\n",
       "        vertical-align: top;\n",
       "    }\n",
       "\n",
       "    .dataframe thead th {\n",
       "        text-align: right;\n",
       "    }\n",
       "</style>\n",
       "<table border=\"1\" class=\"dataframe\">\n",
       "  <thead>\n",
       "    <tr style=\"text-align: right;\">\n",
       "      <th></th>\n",
       "      <th>model</th>\n",
       "      <th>price</th>\n",
       "      <th>transmission</th>\n",
       "      <th>mileage</th>\n",
       "      <th>fuelType</th>\n",
       "      <th>tax</th>\n",
       "      <th>mpg</th>\n",
       "      <th>engineSize</th>\n",
       "      <th>age</th>\n",
       "    </tr>\n",
       "  </thead>\n",
       "  <tbody>\n",
       "    <tr>\n",
       "      <th>5615</th>\n",
       "      <td>Passat</td>\n",
       "      <td>19998</td>\n",
       "      <td>Semi-Auto</td>\n",
       "      <td>22850</td>\n",
       "      <td>Hybrid</td>\n",
       "      <td>0</td>\n",
       "      <td>166.0</td>\n",
       "      <td>1.4</td>\n",
       "      <td>3</td>\n",
       "    </tr>\n",
       "    <tr>\n",
       "      <th>2052</th>\n",
       "      <td>Golf</td>\n",
       "      <td>13552</td>\n",
       "      <td>Manual</td>\n",
       "      <td>22527</td>\n",
       "      <td>Petrol</td>\n",
       "      <td>30</td>\n",
       "      <td>53.3</td>\n",
       "      <td>1.4</td>\n",
       "      <td>3</td>\n",
       "    </tr>\n",
       "    <tr>\n",
       "      <th>6314</th>\n",
       "      <td>Passat</td>\n",
       "      <td>18750</td>\n",
       "      <td>Automatic</td>\n",
       "      <td>13535</td>\n",
       "      <td>Petrol</td>\n",
       "      <td>145</td>\n",
       "      <td>44.8</td>\n",
       "      <td>2.0</td>\n",
       "      <td>2</td>\n",
       "    </tr>\n",
       "    <tr>\n",
       "      <th>193</th>\n",
       "      <td>T-Roc</td>\n",
       "      <td>17250</td>\n",
       "      <td>Manual</td>\n",
       "      <td>7942</td>\n",
       "      <td>Petrol</td>\n",
       "      <td>150</td>\n",
       "      <td>55.4</td>\n",
       "      <td>1.0</td>\n",
       "      <td>2</td>\n",
       "    </tr>\n",
       "    <tr>\n",
       "      <th>2294</th>\n",
       "      <td>Golf</td>\n",
       "      <td>22105</td>\n",
       "      <td>Semi-Auto</td>\n",
       "      <td>4924</td>\n",
       "      <td>Petrol</td>\n",
       "      <td>145</td>\n",
       "      <td>43.5</td>\n",
       "      <td>1.5</td>\n",
       "      <td>1</td>\n",
       "    </tr>\n",
       "    <tr>\n",
       "      <th>14638</th>\n",
       "      <td>Golf SV</td>\n",
       "      <td>9500</td>\n",
       "      <td>Manual</td>\n",
       "      <td>41500</td>\n",
       "      <td>Diesel</td>\n",
       "      <td>0</td>\n",
       "      <td>72.4</td>\n",
       "      <td>1.6</td>\n",
       "      <td>5</td>\n",
       "    </tr>\n",
       "    <tr>\n",
       "      <th>9013</th>\n",
       "      <td>Polo</td>\n",
       "      <td>11649</td>\n",
       "      <td>Manual</td>\n",
       "      <td>12677</td>\n",
       "      <td>Petrol</td>\n",
       "      <td>145</td>\n",
       "      <td>48.7</td>\n",
       "      <td>1.0</td>\n",
       "      <td>1</td>\n",
       "    </tr>\n",
       "    <tr>\n",
       "      <th>8571</th>\n",
       "      <td>Polo</td>\n",
       "      <td>14990</td>\n",
       "      <td>Manual</td>\n",
       "      <td>1950</td>\n",
       "      <td>Petrol</td>\n",
       "      <td>145</td>\n",
       "      <td>48.7</td>\n",
       "      <td>1.0</td>\n",
       "      <td>0</td>\n",
       "    </tr>\n",
       "    <tr>\n",
       "      <th>1637</th>\n",
       "      <td>Golf</td>\n",
       "      <td>16995</td>\n",
       "      <td>Semi-Auto</td>\n",
       "      <td>14925</td>\n",
       "      <td>Petrol</td>\n",
       "      <td>145</td>\n",
       "      <td>45.6</td>\n",
       "      <td>1.0</td>\n",
       "      <td>1</td>\n",
       "    </tr>\n",
       "    <tr>\n",
       "      <th>2059</th>\n",
       "      <td>Golf</td>\n",
       "      <td>19054</td>\n",
       "      <td>Semi-Auto</td>\n",
       "      <td>10697</td>\n",
       "      <td>Petrol</td>\n",
       "      <td>145</td>\n",
       "      <td>44.1</td>\n",
       "      <td>1.5</td>\n",
       "      <td>1</td>\n",
       "    </tr>\n",
       "  </tbody>\n",
       "</table>\n",
       "</div>"
      ],
      "text/plain": [
       "          model  price transmission  mileage fuelType  tax    mpg  engineSize  \\\n",
       "5615     Passat  19998    Semi-Auto    22850   Hybrid    0  166.0         1.4   \n",
       "2052       Golf  13552       Manual    22527   Petrol   30   53.3         1.4   \n",
       "6314     Passat  18750    Automatic    13535   Petrol  145   44.8         2.0   \n",
       "193       T-Roc  17250       Manual     7942   Petrol  150   55.4         1.0   \n",
       "2294       Golf  22105    Semi-Auto     4924   Petrol  145   43.5         1.5   \n",
       "14638   Golf SV   9500       Manual    41500   Diesel    0   72.4         1.6   \n",
       "9013       Polo  11649       Manual    12677   Petrol  145   48.7         1.0   \n",
       "8571       Polo  14990       Manual     1950   Petrol  145   48.7         1.0   \n",
       "1637       Golf  16995    Semi-Auto    14925   Petrol  145   45.6         1.0   \n",
       "2059       Golf  19054    Semi-Auto    10697   Petrol  145   44.1         1.5   \n",
       "\n",
       "       age  \n",
       "5615     3  \n",
       "2052     3  \n",
       "6314     2  \n",
       "193      2  \n",
       "2294     1  \n",
       "14638    5  \n",
       "9013     1  \n",
       "8571     0  \n",
       "1637     1  \n",
       "2059     1  "
      ]
     },
     "execution_count": 12,
     "metadata": {},
     "output_type": "execute_result"
    }
   ],
   "source": [
    "data[\"age\"] = 2020 - data[\"year\"] # Getting age of cars\n",
    "data = data.drop(columns = [\"year\"]) # removing year column\n",
    "data.sample(10)"
   ]
  },
  {
   "cell_type": "markdown",
   "metadata": {},
   "source": [
    "## Pre-processing for modeling"
   ]
  },
  {
   "cell_type": "markdown",
   "metadata": {},
   "source": [
    "### We are use pd.get_dummies option to get the one hot encoded variables for the categorical variables. The column names are preserved"
   ]
  },
  {
   "cell_type": "code",
   "execution_count": 13,
   "metadata": {},
   "outputs": [
    {
     "data": {
      "text/html": [
       "<div>\n",
       "<style scoped>\n",
       "    .dataframe tbody tr th:only-of-type {\n",
       "        vertical-align: middle;\n",
       "    }\n",
       "\n",
       "    .dataframe tbody tr th {\n",
       "        vertical-align: top;\n",
       "    }\n",
       "\n",
       "    .dataframe thead th {\n",
       "        text-align: right;\n",
       "    }\n",
       "</style>\n",
       "<table border=\"1\" class=\"dataframe\">\n",
       "  <thead>\n",
       "    <tr style=\"text-align: right;\">\n",
       "      <th></th>\n",
       "      <th>price</th>\n",
       "      <th>mileage</th>\n",
       "      <th>tax</th>\n",
       "      <th>mpg</th>\n",
       "      <th>engineSize</th>\n",
       "      <th>age</th>\n",
       "      <th>model_ Amarok</th>\n",
       "      <th>model_ Arteon</th>\n",
       "      <th>model_ Beetle</th>\n",
       "      <th>model_ CC</th>\n",
       "      <th>...</th>\n",
       "      <th>model_ Touareg</th>\n",
       "      <th>model_ Touran</th>\n",
       "      <th>model_ Up</th>\n",
       "      <th>transmission_Automatic</th>\n",
       "      <th>transmission_Manual</th>\n",
       "      <th>transmission_Semi-Auto</th>\n",
       "      <th>fuelType_Diesel</th>\n",
       "      <th>fuelType_Hybrid</th>\n",
       "      <th>fuelType_Other</th>\n",
       "      <th>fuelType_Petrol</th>\n",
       "    </tr>\n",
       "  </thead>\n",
       "  <tbody>\n",
       "    <tr>\n",
       "      <th>0</th>\n",
       "      <td>25000</td>\n",
       "      <td>13904</td>\n",
       "      <td>145</td>\n",
       "      <td>49.6</td>\n",
       "      <td>2.0</td>\n",
       "      <td>1</td>\n",
       "      <td>0</td>\n",
       "      <td>0</td>\n",
       "      <td>0</td>\n",
       "      <td>0</td>\n",
       "      <td>...</td>\n",
       "      <td>0</td>\n",
       "      <td>0</td>\n",
       "      <td>0</td>\n",
       "      <td>1</td>\n",
       "      <td>0</td>\n",
       "      <td>0</td>\n",
       "      <td>1</td>\n",
       "      <td>0</td>\n",
       "      <td>0</td>\n",
       "      <td>0</td>\n",
       "    </tr>\n",
       "    <tr>\n",
       "      <th>1</th>\n",
       "      <td>26883</td>\n",
       "      <td>4562</td>\n",
       "      <td>145</td>\n",
       "      <td>49.6</td>\n",
       "      <td>2.0</td>\n",
       "      <td>1</td>\n",
       "      <td>0</td>\n",
       "      <td>0</td>\n",
       "      <td>0</td>\n",
       "      <td>0</td>\n",
       "      <td>...</td>\n",
       "      <td>0</td>\n",
       "      <td>0</td>\n",
       "      <td>0</td>\n",
       "      <td>1</td>\n",
       "      <td>0</td>\n",
       "      <td>0</td>\n",
       "      <td>1</td>\n",
       "      <td>0</td>\n",
       "      <td>0</td>\n",
       "      <td>0</td>\n",
       "    </tr>\n",
       "    <tr>\n",
       "      <th>2</th>\n",
       "      <td>20000</td>\n",
       "      <td>7414</td>\n",
       "      <td>145</td>\n",
       "      <td>50.4</td>\n",
       "      <td>2.0</td>\n",
       "      <td>1</td>\n",
       "      <td>0</td>\n",
       "      <td>0</td>\n",
       "      <td>0</td>\n",
       "      <td>0</td>\n",
       "      <td>...</td>\n",
       "      <td>0</td>\n",
       "      <td>0</td>\n",
       "      <td>0</td>\n",
       "      <td>0</td>\n",
       "      <td>1</td>\n",
       "      <td>0</td>\n",
       "      <td>1</td>\n",
       "      <td>0</td>\n",
       "      <td>0</td>\n",
       "      <td>0</td>\n",
       "    </tr>\n",
       "    <tr>\n",
       "      <th>3</th>\n",
       "      <td>33492</td>\n",
       "      <td>4825</td>\n",
       "      <td>145</td>\n",
       "      <td>32.5</td>\n",
       "      <td>2.0</td>\n",
       "      <td>1</td>\n",
       "      <td>0</td>\n",
       "      <td>0</td>\n",
       "      <td>0</td>\n",
       "      <td>0</td>\n",
       "      <td>...</td>\n",
       "      <td>0</td>\n",
       "      <td>0</td>\n",
       "      <td>0</td>\n",
       "      <td>1</td>\n",
       "      <td>0</td>\n",
       "      <td>0</td>\n",
       "      <td>0</td>\n",
       "      <td>0</td>\n",
       "      <td>0</td>\n",
       "      <td>1</td>\n",
       "    </tr>\n",
       "    <tr>\n",
       "      <th>4</th>\n",
       "      <td>22900</td>\n",
       "      <td>6500</td>\n",
       "      <td>150</td>\n",
       "      <td>39.8</td>\n",
       "      <td>1.5</td>\n",
       "      <td>1</td>\n",
       "      <td>0</td>\n",
       "      <td>0</td>\n",
       "      <td>0</td>\n",
       "      <td>0</td>\n",
       "      <td>...</td>\n",
       "      <td>0</td>\n",
       "      <td>0</td>\n",
       "      <td>0</td>\n",
       "      <td>0</td>\n",
       "      <td>0</td>\n",
       "      <td>1</td>\n",
       "      <td>0</td>\n",
       "      <td>0</td>\n",
       "      <td>0</td>\n",
       "      <td>1</td>\n",
       "    </tr>\n",
       "  </tbody>\n",
       "</table>\n",
       "<p>5 rows × 40 columns</p>\n",
       "</div>"
      ],
      "text/plain": [
       "   price  mileage  tax   mpg  engineSize  age  model_ Amarok  model_ Arteon  \\\n",
       "0  25000    13904  145  49.6         2.0    1              0              0   \n",
       "1  26883     4562  145  49.6         2.0    1              0              0   \n",
       "2  20000     7414  145  50.4         2.0    1              0              0   \n",
       "3  33492     4825  145  32.5         2.0    1              0              0   \n",
       "4  22900     6500  150  39.8         1.5    1              0              0   \n",
       "\n",
       "   model_ Beetle  model_ CC  ...  model_ Touareg  model_ Touran  model_ Up  \\\n",
       "0              0          0  ...               0              0          0   \n",
       "1              0          0  ...               0              0          0   \n",
       "2              0          0  ...               0              0          0   \n",
       "3              0          0  ...               0              0          0   \n",
       "4              0          0  ...               0              0          0   \n",
       "\n",
       "   transmission_Automatic  transmission_Manual  transmission_Semi-Auto  \\\n",
       "0                       1                    0                       0   \n",
       "1                       1                    0                       0   \n",
       "2                       0                    1                       0   \n",
       "3                       1                    0                       0   \n",
       "4                       0                    0                       1   \n",
       "\n",
       "   fuelType_Diesel  fuelType_Hybrid  fuelType_Other  fuelType_Petrol  \n",
       "0                1                0               0                0  \n",
       "1                1                0               0                0  \n",
       "2                1                0               0                0  \n",
       "3                0                0               0                1  \n",
       "4                0                0               0                1  \n",
       "\n",
       "[5 rows x 40 columns]"
      ]
     },
     "execution_count": 13,
     "metadata": {},
     "output_type": "execute_result"
    }
   ],
   "source": [
    "data_expanded = pandas.get_dummies(data)\n",
    "data_expanded.head()"
   ]
  },
  {
   "cell_type": "code",
   "execution_count": 14,
   "metadata": {},
   "outputs": [],
   "source": [
    "Y = data_expanded['price']"
   ]
  },
  {
   "cell_type": "code",
   "execution_count": 15,
   "metadata": {},
   "outputs": [],
   "source": [
    "X = data_expanded.drop(columns=['price'])"
   ]
  },
  {
   "cell_type": "code",
   "execution_count": 16,
   "metadata": {},
   "outputs": [
    {
     "data": {
      "text/html": [
       "<div>\n",
       "<style scoped>\n",
       "    .dataframe tbody tr th:only-of-type {\n",
       "        vertical-align: middle;\n",
       "    }\n",
       "\n",
       "    .dataframe tbody tr th {\n",
       "        vertical-align: top;\n",
       "    }\n",
       "\n",
       "    .dataframe thead th {\n",
       "        text-align: right;\n",
       "    }\n",
       "</style>\n",
       "<table border=\"1\" class=\"dataframe\">\n",
       "  <thead>\n",
       "    <tr style=\"text-align: right;\">\n",
       "      <th></th>\n",
       "      <th>mileage</th>\n",
       "      <th>tax</th>\n",
       "      <th>mpg</th>\n",
       "      <th>engineSize</th>\n",
       "      <th>age</th>\n",
       "      <th>model_ Amarok</th>\n",
       "      <th>model_ Arteon</th>\n",
       "      <th>model_ Beetle</th>\n",
       "      <th>model_ CC</th>\n",
       "      <th>model_ Caddy</th>\n",
       "      <th>...</th>\n",
       "      <th>model_ Touareg</th>\n",
       "      <th>model_ Touran</th>\n",
       "      <th>model_ Up</th>\n",
       "      <th>transmission_Automatic</th>\n",
       "      <th>transmission_Manual</th>\n",
       "      <th>transmission_Semi-Auto</th>\n",
       "      <th>fuelType_Diesel</th>\n",
       "      <th>fuelType_Hybrid</th>\n",
       "      <th>fuelType_Other</th>\n",
       "      <th>fuelType_Petrol</th>\n",
       "    </tr>\n",
       "  </thead>\n",
       "  <tbody>\n",
       "    <tr>\n",
       "      <th>0</th>\n",
       "      <td>13904</td>\n",
       "      <td>145</td>\n",
       "      <td>49.6</td>\n",
       "      <td>2.0</td>\n",
       "      <td>1</td>\n",
       "      <td>0</td>\n",
       "      <td>0</td>\n",
       "      <td>0</td>\n",
       "      <td>0</td>\n",
       "      <td>0</td>\n",
       "      <td>...</td>\n",
       "      <td>0</td>\n",
       "      <td>0</td>\n",
       "      <td>0</td>\n",
       "      <td>1</td>\n",
       "      <td>0</td>\n",
       "      <td>0</td>\n",
       "      <td>1</td>\n",
       "      <td>0</td>\n",
       "      <td>0</td>\n",
       "      <td>0</td>\n",
       "    </tr>\n",
       "    <tr>\n",
       "      <th>1</th>\n",
       "      <td>4562</td>\n",
       "      <td>145</td>\n",
       "      <td>49.6</td>\n",
       "      <td>2.0</td>\n",
       "      <td>1</td>\n",
       "      <td>0</td>\n",
       "      <td>0</td>\n",
       "      <td>0</td>\n",
       "      <td>0</td>\n",
       "      <td>0</td>\n",
       "      <td>...</td>\n",
       "      <td>0</td>\n",
       "      <td>0</td>\n",
       "      <td>0</td>\n",
       "      <td>1</td>\n",
       "      <td>0</td>\n",
       "      <td>0</td>\n",
       "      <td>1</td>\n",
       "      <td>0</td>\n",
       "      <td>0</td>\n",
       "      <td>0</td>\n",
       "    </tr>\n",
       "    <tr>\n",
       "      <th>2</th>\n",
       "      <td>7414</td>\n",
       "      <td>145</td>\n",
       "      <td>50.4</td>\n",
       "      <td>2.0</td>\n",
       "      <td>1</td>\n",
       "      <td>0</td>\n",
       "      <td>0</td>\n",
       "      <td>0</td>\n",
       "      <td>0</td>\n",
       "      <td>0</td>\n",
       "      <td>...</td>\n",
       "      <td>0</td>\n",
       "      <td>0</td>\n",
       "      <td>0</td>\n",
       "      <td>0</td>\n",
       "      <td>1</td>\n",
       "      <td>0</td>\n",
       "      <td>1</td>\n",
       "      <td>0</td>\n",
       "      <td>0</td>\n",
       "      <td>0</td>\n",
       "    </tr>\n",
       "    <tr>\n",
       "      <th>3</th>\n",
       "      <td>4825</td>\n",
       "      <td>145</td>\n",
       "      <td>32.5</td>\n",
       "      <td>2.0</td>\n",
       "      <td>1</td>\n",
       "      <td>0</td>\n",
       "      <td>0</td>\n",
       "      <td>0</td>\n",
       "      <td>0</td>\n",
       "      <td>0</td>\n",
       "      <td>...</td>\n",
       "      <td>0</td>\n",
       "      <td>0</td>\n",
       "      <td>0</td>\n",
       "      <td>1</td>\n",
       "      <td>0</td>\n",
       "      <td>0</td>\n",
       "      <td>0</td>\n",
       "      <td>0</td>\n",
       "      <td>0</td>\n",
       "      <td>1</td>\n",
       "    </tr>\n",
       "    <tr>\n",
       "      <th>4</th>\n",
       "      <td>6500</td>\n",
       "      <td>150</td>\n",
       "      <td>39.8</td>\n",
       "      <td>1.5</td>\n",
       "      <td>1</td>\n",
       "      <td>0</td>\n",
       "      <td>0</td>\n",
       "      <td>0</td>\n",
       "      <td>0</td>\n",
       "      <td>0</td>\n",
       "      <td>...</td>\n",
       "      <td>0</td>\n",
       "      <td>0</td>\n",
       "      <td>0</td>\n",
       "      <td>0</td>\n",
       "      <td>0</td>\n",
       "      <td>1</td>\n",
       "      <td>0</td>\n",
       "      <td>0</td>\n",
       "      <td>0</td>\n",
       "      <td>1</td>\n",
       "    </tr>\n",
       "  </tbody>\n",
       "</table>\n",
       "<p>5 rows × 39 columns</p>\n",
       "</div>"
      ],
      "text/plain": [
       "   mileage  tax   mpg  engineSize  age  model_ Amarok  model_ Arteon  \\\n",
       "0    13904  145  49.6         2.0    1              0              0   \n",
       "1     4562  145  49.6         2.0    1              0              0   \n",
       "2     7414  145  50.4         2.0    1              0              0   \n",
       "3     4825  145  32.5         2.0    1              0              0   \n",
       "4     6500  150  39.8         1.5    1              0              0   \n",
       "\n",
       "   model_ Beetle  model_ CC  model_ Caddy  ...  model_ Touareg  model_ Touran  \\\n",
       "0              0          0             0  ...               0              0   \n",
       "1              0          0             0  ...               0              0   \n",
       "2              0          0             0  ...               0              0   \n",
       "3              0          0             0  ...               0              0   \n",
       "4              0          0             0  ...               0              0   \n",
       "\n",
       "   model_ Up  transmission_Automatic  transmission_Manual  \\\n",
       "0          0                       1                    0   \n",
       "1          0                       1                    0   \n",
       "2          0                       0                    1   \n",
       "3          0                       1                    0   \n",
       "4          0                       0                    0   \n",
       "\n",
       "   transmission_Semi-Auto  fuelType_Diesel  fuelType_Hybrid  fuelType_Other  \\\n",
       "0                       0                1                0               0   \n",
       "1                       0                1                0               0   \n",
       "2                       0                1                0               0   \n",
       "3                       0                0                0               0   \n",
       "4                       1                0                0               0   \n",
       "\n",
       "   fuelType_Petrol  \n",
       "0                0  \n",
       "1                0  \n",
       "2                0  \n",
       "3                1  \n",
       "4                1  \n",
       "\n",
       "[5 rows x 39 columns]"
      ]
     },
     "execution_count": 16,
     "metadata": {},
     "output_type": "execute_result"
    }
   ],
   "source": [
    "X.head()"
   ]
  },
  {
   "cell_type": "markdown",
   "metadata": {},
   "source": [
    "# Model 1"
   ]
  },
  {
   "cell_type": "markdown",
   "metadata": {},
   "source": [
    "### We are simply building logistic regression model by 75 % training data set."
   ]
  },
  {
   "cell_type": "code",
   "execution_count": 17,
   "metadata": {},
   "outputs": [],
   "source": [
    "from sklearn.model_selection import train_test_split  # Importing train test split function for data splitting"
   ]
  },
  {
   "cell_type": "code",
   "execution_count": 18,
   "metadata": {},
   "outputs": [],
   "source": [
    "x_train,x_test, y_train, y_test = train_test_split(X,Y, random_state=1) # data splitting into train and test set"
   ]
  },
  {
   "cell_type": "code",
   "execution_count": 19,
   "metadata": {},
   "outputs": [
    {
     "data": {
      "text/plain": [
       "LinearRegression()"
      ]
     },
     "execution_count": 19,
     "metadata": {},
     "output_type": "execute_result"
    }
   ],
   "source": [
    "from sklearn.linear_model import LinearRegression # Importing linear Regression model\n",
    "regressor1 = LinearRegression() # Creating instance for model with regressor object\n",
    "regressor1.fit(x_train, y_train) # Fitting data set with the Multiple regression model."
   ]
  },
  {
   "cell_type": "code",
   "execution_count": 20,
   "metadata": {},
   "outputs": [],
   "source": [
    "y_pred1 = regressor1.predict(x_test) # Predicting the x test set"
   ]
  },
  {
   "cell_type": "markdown",
   "metadata": {},
   "source": [
    "## Evaluating the Model Performance"
   ]
  },
  {
   "cell_type": "code",
   "execution_count": 21,
   "metadata": {},
   "outputs": [
    {
     "data": {
      "text/plain": [
       "0.8911003906184695"
      ]
     },
     "execution_count": 21,
     "metadata": {},
     "output_type": "execute_result"
    }
   ],
   "source": [
    "from sklearn.metrics import r2_score\n",
    "r2_score(y_test, y_pred1)"
   ]
  },
  {
   "cell_type": "markdown",
   "metadata": {},
   "source": [
    "### The R-Squared of the model 1 is 89.11 %"
   ]
  },
  {
   "cell_type": "markdown",
   "metadata": {},
   "source": [
    "### R-Squared (R² or the coefficient of determination) is a statistical measure in a regression model that determines the proportion of variance in the dependent variable that can be explained by the independent variable. In other words, r-squared shows how well the data fit the regression model (the goodness of fit).\n",
    "The higher the value of R square shows the best model"
   ]
  },
  {
   "cell_type": "markdown",
   "metadata": {},
   "source": [
    "# Model 2"
   ]
  },
  {
   "cell_type": "markdown",
   "metadata": {},
   "source": [
    "### Applying the standard scalar option to standardize all the variables in the dataset."
   ]
  },
  {
   "cell_type": "code",
   "execution_count": 22,
   "metadata": {},
   "outputs": [],
   "source": [
    "Y = data_expanded['price'] # Defining dependent variable"
   ]
  },
  {
   "cell_type": "code",
   "execution_count": 23,
   "metadata": {},
   "outputs": [],
   "source": [
    "X2 = data_expanded.drop(columns=['price']) # Defining independent variables"
   ]
  },
  {
   "cell_type": "code",
   "execution_count": 24,
   "metadata": {},
   "outputs": [],
   "source": [
    "x_train,x_test, y_train, y_test = train_test_split(X2,Y, random_state=1) # data splitting into train and test set"
   ]
  },
  {
   "cell_type": "code",
   "execution_count": 25,
   "metadata": {},
   "outputs": [],
   "source": [
    "from sklearn.preprocessing import StandardScaler # Importing standard scaler function\n",
    "sc=StandardScaler() # Creating instance\n",
    "x_train=sc.fit_transform(x_train) # Applying feature scaling\n",
    "x_test=sc.transform(x_test) "
   ]
  },
  {
   "cell_type": "markdown",
   "metadata": {},
   "source": [
    "### The entire data is normalised with StandardScaler() function which normalised data in the range of -3 to +3."
   ]
  },
  {
   "cell_type": "code",
   "execution_count": 26,
   "metadata": {},
   "outputs": [
    {
     "data": {
      "text/plain": [
       "LinearRegression()"
      ]
     },
     "execution_count": 26,
     "metadata": {},
     "output_type": "execute_result"
    }
   ],
   "source": [
    "from sklearn.linear_model import LinearRegression # Importing linear Regression model\n",
    "regressor2 = LinearRegression()  # Creating instance for model with regressor object\n",
    "regressor2.fit(x_train, y_train) # Fitting data set with the Multiple regression model."
   ]
  },
  {
   "cell_type": "code",
   "execution_count": 27,
   "metadata": {},
   "outputs": [],
   "source": [
    "y_pred2 = regressor2.predict(x_test) # Predicting the x test set"
   ]
  },
  {
   "cell_type": "markdown",
   "metadata": {},
   "source": [
    "## Evaluating the Model Performance"
   ]
  },
  {
   "cell_type": "code",
   "execution_count": 28,
   "metadata": {},
   "outputs": [
    {
     "data": {
      "text/plain": [
       "0.8910972470745782"
      ]
     },
     "execution_count": 28,
     "metadata": {},
     "output_type": "execute_result"
    }
   ],
   "source": [
    "from sklearn.metrics import r2_score\n",
    "r2_score(y_test, y_pred2)"
   ]
  },
  {
   "cell_type": "markdown",
   "metadata": {},
   "source": [
    "### The R-Squared of the model 2 is 89.10 %"
   ]
  },
  {
   "cell_type": "markdown",
   "metadata": {},
   "source": [
    "## Model 3"
   ]
  },
  {
   "cell_type": "markdown",
   "metadata": {},
   "source": [
    "### Selection of feature on the basis of correlation coefficient"
   ]
  },
  {
   "cell_type": "code",
   "execution_count": 29,
   "metadata": {},
   "outputs": [],
   "source": [
    "import matplotlib.pyplot as plt # Importing plotting library\n",
    "import seaborn as sns\n",
    "sns.set_style('darkgrid') # Setting dark grid line for the chart"
   ]
  },
  {
   "cell_type": "code",
   "execution_count": 30,
   "metadata": {},
   "outputs": [
    {
     "data": {
      "image/png": "[encoded data removed]",
      "text/plain": [
       "<Figure size 720x576 with 2 Axes>"
      ]
     },
     "metadata": {},
     "output_type": "display_data"
    }
   ],
   "source": [
    "corr = data.corr() # Creating correlation matrix\n",
    "#Plot figsize\n",
    "fig, ax = plt.subplots(figsize=(10, 8))\n",
    "#Generate Heat Map, allow annotations and place floats in map\n",
    "sns.heatmap(corr, cmap='magma', annot=True, fmt=\".2f\")\n",
    "#Apply xticks\n",
    "plt.xticks(range(len(corr.columns)), corr.columns);\n",
    "#Apply yticks\n",
    "plt.yticks(range(len(corr.columns)), corr.columns)\n",
    "#show plot\n",
    "plt.show()"
   ]
  },
  {
   "cell_type": "code",
   "execution_count": 31,
   "metadata": {},
   "outputs": [],
   "source": [
    "X3= data_expanded.drop(columns=['price','age']) # Removing age column from dataset."
   ]
  },
  {
   "cell_type": "code",
   "execution_count": 32,
   "metadata": {},
   "outputs": [
    {
     "data": {
      "text/html": [
       "<div>\n",
       "<style scoped>\n",
       "    .dataframe tbody tr th:only-of-type {\n",
       "        vertical-align: middle;\n",
       "    }\n",
       "\n",
       "    .dataframe tbody tr th {\n",
       "        vertical-align: top;\n",
       "    }\n",
       "\n",
       "    .dataframe thead th {\n",
       "        text-align: right;\n",
       "    }\n",
       "</style>\n",
       "<table border=\"1\" class=\"dataframe\">\n",
       "  <thead>\n",
       "    <tr style=\"text-align: right;\">\n",
       "      <th></th>\n",
       "      <th>mileage</th>\n",
       "      <th>tax</th>\n",
       "      <th>mpg</th>\n",
       "      <th>engineSize</th>\n",
       "      <th>model_ Amarok</th>\n",
       "      <th>model_ Arteon</th>\n",
       "      <th>model_ Beetle</th>\n",
       "      <th>model_ CC</th>\n",
       "      <th>model_ Caddy</th>\n",
       "      <th>model_ Caddy Life</th>\n",
       "      <th>...</th>\n",
       "      <th>model_ Touareg</th>\n",
       "      <th>model_ Touran</th>\n",
       "      <th>model_ Up</th>\n",
       "      <th>transmission_Automatic</th>\n",
       "      <th>transmission_Manual</th>\n",
       "      <th>transmission_Semi-Auto</th>\n",
       "      <th>fuelType_Diesel</th>\n",
       "      <th>fuelType_Hybrid</th>\n",
       "      <th>fuelType_Other</th>\n",
       "      <th>fuelType_Petrol</th>\n",
       "    </tr>\n",
       "  </thead>\n",
       "  <tbody>\n",
       "    <tr>\n",
       "      <th>0</th>\n",
       "      <td>13904</td>\n",
       "      <td>145</td>\n",
       "      <td>49.6</td>\n",
       "      <td>2.0</td>\n",
       "      <td>0</td>\n",
       "      <td>0</td>\n",
       "      <td>0</td>\n",
       "      <td>0</td>\n",
       "      <td>0</td>\n",
       "      <td>0</td>\n",
       "      <td>...</td>\n",
       "      <td>0</td>\n",
       "      <td>0</td>\n",
       "      <td>0</td>\n",
       "      <td>1</td>\n",
       "      <td>0</td>\n",
       "      <td>0</td>\n",
       "      <td>1</td>\n",
       "      <td>0</td>\n",
       "      <td>0</td>\n",
       "      <td>0</td>\n",
       "    </tr>\n",
       "    <tr>\n",
       "      <th>1</th>\n",
       "      <td>4562</td>\n",
       "      <td>145</td>\n",
       "      <td>49.6</td>\n",
       "      <td>2.0</td>\n",
       "      <td>0</td>\n",
       "      <td>0</td>\n",
       "      <td>0</td>\n",
       "      <td>0</td>\n",
       "      <td>0</td>\n",
       "      <td>0</td>\n",
       "      <td>...</td>\n",
       "      <td>0</td>\n",
       "      <td>0</td>\n",
       "      <td>0</td>\n",
       "      <td>1</td>\n",
       "      <td>0</td>\n",
       "      <td>0</td>\n",
       "      <td>1</td>\n",
       "      <td>0</td>\n",
       "      <td>0</td>\n",
       "      <td>0</td>\n",
       "    </tr>\n",
       "    <tr>\n",
       "      <th>2</th>\n",
       "      <td>7414</td>\n",
       "      <td>145</td>\n",
       "      <td>50.4</td>\n",
       "      <td>2.0</td>\n",
       "      <td>0</td>\n",
       "      <td>0</td>\n",
       "      <td>0</td>\n",
       "      <td>0</td>\n",
       "      <td>0</td>\n",
       "      <td>0</td>\n",
       "      <td>...</td>\n",
       "      <td>0</td>\n",
       "      <td>0</td>\n",
       "      <td>0</td>\n",
       "      <td>0</td>\n",
       "      <td>1</td>\n",
       "      <td>0</td>\n",
       "      <td>1</td>\n",
       "      <td>0</td>\n",
       "      <td>0</td>\n",
       "      <td>0</td>\n",
       "    </tr>\n",
       "    <tr>\n",
       "      <th>3</th>\n",
       "      <td>4825</td>\n",
       "      <td>145</td>\n",
       "      <td>32.5</td>\n",
       "      <td>2.0</td>\n",
       "      <td>0</td>\n",
       "      <td>0</td>\n",
       "      <td>0</td>\n",
       "      <td>0</td>\n",
       "      <td>0</td>\n",
       "      <td>0</td>\n",
       "      <td>...</td>\n",
       "      <td>0</td>\n",
       "      <td>0</td>\n",
       "      <td>0</td>\n",
       "      <td>1</td>\n",
       "      <td>0</td>\n",
       "      <td>0</td>\n",
       "      <td>0</td>\n",
       "      <td>0</td>\n",
       "      <td>0</td>\n",
       "      <td>1</td>\n",
       "    </tr>\n",
       "    <tr>\n",
       "      <th>4</th>\n",
       "      <td>6500</td>\n",
       "      <td>150</td>\n",
       "      <td>39.8</td>\n",
       "      <td>1.5</td>\n",
       "      <td>0</td>\n",
       "      <td>0</td>\n",
       "      <td>0</td>\n",
       "      <td>0</td>\n",
       "      <td>0</td>\n",
       "      <td>0</td>\n",
       "      <td>...</td>\n",
       "      <td>0</td>\n",
       "      <td>0</td>\n",
       "      <td>0</td>\n",
       "      <td>0</td>\n",
       "      <td>0</td>\n",
       "      <td>1</td>\n",
       "      <td>0</td>\n",
       "      <td>0</td>\n",
       "      <td>0</td>\n",
       "      <td>1</td>\n",
       "    </tr>\n",
       "  </tbody>\n",
       "</table>\n",
       "<p>5 rows × 38 columns</p>\n",
       "</div>"
      ],
      "text/plain": [
       "   mileage  tax   mpg  engineSize  model_ Amarok  model_ Arteon  \\\n",
       "0    13904  145  49.6         2.0              0              0   \n",
       "1     4562  145  49.6         2.0              0              0   \n",
       "2     7414  145  50.4         2.0              0              0   \n",
       "3     4825  145  32.5         2.0              0              0   \n",
       "4     6500  150  39.8         1.5              0              0   \n",
       "\n",
       "   model_ Beetle  model_ CC  model_ Caddy  model_ Caddy Life  ...  \\\n",
       "0              0          0             0                  0  ...   \n",
       "1              0          0             0                  0  ...   \n",
       "2              0          0             0                  0  ...   \n",
       "3              0          0             0                  0  ...   \n",
       "4              0          0             0                  0  ...   \n",
       "\n",
       "   model_ Touareg  model_ Touran  model_ Up  transmission_Automatic  \\\n",
       "0               0              0          0                       1   \n",
       "1               0              0          0                       1   \n",
       "2               0              0          0                       0   \n",
       "3               0              0          0                       1   \n",
       "4               0              0          0                       0   \n",
       "\n",
       "   transmission_Manual  transmission_Semi-Auto  fuelType_Diesel  \\\n",
       "0                    0                       0                1   \n",
       "1                    0                       0                1   \n",
       "2                    1                       0                1   \n",
       "3                    0                       0                0   \n",
       "4                    0                       1                0   \n",
       "\n",
       "   fuelType_Hybrid  fuelType_Other  fuelType_Petrol  \n",
       "0                0               0                0  \n",
       "1                0               0                0  \n",
       "2                0               0                0  \n",
       "3                0               0                1  \n",
       "4                0               0                1  \n",
       "\n",
       "[5 rows x 38 columns]"
      ]
     },
     "execution_count": 32,
     "metadata": {},
     "output_type": "execute_result"
    }
   ],
   "source": [
    "X3.head() # The top five entries of independent variables"
   ]
  },
  {
   "cell_type": "code",
   "execution_count": 33,
   "metadata": {},
   "outputs": [],
   "source": [
    "Y = data_expanded['price'] # Defining dependent variable"
   ]
  },
  {
   "cell_type": "code",
   "execution_count": 34,
   "metadata": {},
   "outputs": [],
   "source": [
    "x_train,x_test, y_train, y_test = train_test_split(X3,Y, random_state=1) # data splitting into train and test set"
   ]
  },
  {
   "cell_type": "code",
   "execution_count": 35,
   "metadata": {},
   "outputs": [
    {
     "data": {
      "text/plain": [
       "LinearRegression()"
      ]
     },
     "execution_count": 35,
     "metadata": {},
     "output_type": "execute_result"
    }
   ],
   "source": [
    "from sklearn.linear_model import LinearRegression # Importing linear Regression \n",
    "regressor3 = LinearRegression()  # Creating instance for model with regressor object\n",
    "regressor3.fit(x_train, y_train) # Fitting data set with the Multiple regression model"
   ]
  },
  {
   "cell_type": "code",
   "execution_count": 36,
   "metadata": {},
   "outputs": [],
   "source": [
    "y_pred3 = regressor3.predict(x_test) # Predicting the x test set"
   ]
  },
  {
   "cell_type": "markdown",
   "metadata": {},
   "source": [
    "## Evaluating the Model Performance"
   ]
  },
  {
   "cell_type": "code",
   "execution_count": 37,
   "metadata": {},
   "outputs": [
    {
     "data": {
      "text/plain": [
       "0.8506670373722147"
      ]
     },
     "execution_count": 37,
     "metadata": {},
     "output_type": "execute_result"
    }
   ],
   "source": [
    "from sklearn.metrics import r2_score\n",
    "r2_score(y_test, y_pred3)"
   ]
  },
  {
   "cell_type": "markdown",
   "metadata": {},
   "source": [
    "### The R-Squared of the model 3 is 85.06 %"
   ]
  },
  {
   "cell_type": "markdown",
   "metadata": {},
   "source": [
    "### It can been that the age feature has negative relation with price feature so we remove age feature then rebuild model to observe the model performance but the model performance is getting down here. So its advised not to remove age feature."
   ]
  },
  {
   "cell_type": "markdown",
   "metadata": {},
   "source": [
    "# Model 4"
   ]
  },
  {
   "cell_type": "markdown",
   "metadata": {},
   "source": [
    "### We are building Random Forest Regression model"
   ]
  },
  {
   "cell_type": "code",
   "execution_count": 38,
   "metadata": {},
   "outputs": [],
   "source": [
    "X4= data_expanded.drop(columns=['price']) # Defining independent variable"
   ]
  },
  {
   "cell_type": "code",
   "execution_count": 39,
   "metadata": {},
   "outputs": [],
   "source": [
    "Y = data_expanded['price'] # Defining dependent variable"
   ]
  },
  {
   "cell_type": "code",
   "execution_count": 40,
   "metadata": {},
   "outputs": [],
   "source": [
    "x_train, x_test, y_train, y_test = train_test_split(X4, Y, random_state = 0)"
   ]
  },
  {
   "cell_type": "code",
   "execution_count": 41,
   "metadata": {},
   "outputs": [
    {
     "data": {
      "text/plain": [
       "RandomForestRegressor(n_estimators=10, random_state=0)"
      ]
     },
     "execution_count": 41,
     "metadata": {},
     "output_type": "execute_result"
    }
   ],
   "source": [
    "from sklearn.ensemble import RandomForestRegressor # Importing the Random Forest model\n",
    "regressor4 = RandomForestRegressor(n_estimators = 10, random_state = 0)  # Creating instance for the model\n",
    "regressor4.fit(x_train, y_train) # Fitting the model on training data"
   ]
  },
  {
   "cell_type": "code",
   "execution_count": 42,
   "metadata": {},
   "outputs": [],
   "source": [
    "y_pred4 = regressor4.predict(x_test) # Predicting the x test set"
   ]
  },
  {
   "cell_type": "markdown",
   "metadata": {},
   "source": [
    "## Evaluating the Model Performance"
   ]
  },
  {
   "cell_type": "code",
   "execution_count": 43,
   "metadata": {},
   "outputs": [
    {
     "data": {
      "text/plain": [
       "0.9455379212358833"
      ]
     },
     "execution_count": 43,
     "metadata": {},
     "output_type": "execute_result"
    }
   ],
   "source": [
    "from sklearn.metrics import r2_score\n",
    "r2_score(y_test, y_pred4)"
   ]
  },
  {
   "cell_type": "markdown",
   "metadata": {},
   "source": [
    "### The R-Squared of the model 4 is 94.55 %"
   ]
  },
  {
   "cell_type": "markdown",
   "metadata": {},
   "source": [
    "# Model 5"
   ]
  },
  {
   "cell_type": "markdown",
   "metadata": {},
   "source": [
    "### We are building SV Regression model"
   ]
  },
  {
   "cell_type": "code",
   "execution_count": 44,
   "metadata": {},
   "outputs": [],
   "source": [
    "X5= data_expanded.drop(columns=['price']) # Defining independent variable"
   ]
  },
  {
   "cell_type": "code",
   "execution_count": 45,
   "metadata": {},
   "outputs": [],
   "source": [
    "Y = data_expanded['price'] # Defining dependent variable"
   ]
  },
  {
   "cell_type": "code",
   "execution_count": 46,
   "metadata": {},
   "outputs": [],
   "source": [
    "x_train, x_test, y_train, y_test = train_test_split(X5, Y, random_state = 0)"
   ]
  },
  {
   "cell_type": "code",
   "execution_count": 47,
   "metadata": {},
   "outputs": [
    {
     "data": {
      "text/plain": [
       "SVR()"
      ]
     },
     "execution_count": 47,
     "metadata": {},
     "output_type": "execute_result"
    }
   ],
   "source": [
    "from sklearn.svm import SVR # Importing the SVR model\n",
    "regressor5 = SVR(kernel = 'rbf') # Creating instance for the model\n",
    "regressor5.fit(x_train, y_train) # Fitting the model on training data"
   ]
  },
  {
   "cell_type": "code",
   "execution_count": 48,
   "metadata": {},
   "outputs": [],
   "source": [
    "y_pred5 = regressor5.predict(x_test) # Predicting the x test set"
   ]
  },
  {
   "cell_type": "markdown",
   "metadata": {},
   "source": [
    "## Evaluating the Model Performance"
   ]
  },
  {
   "cell_type": "code",
   "execution_count": 49,
   "metadata": {},
   "outputs": [
    {
     "data": {
      "text/plain": [
       "0.10160390057843993"
      ]
     },
     "execution_count": 49,
     "metadata": {},
     "output_type": "execute_result"
    }
   ],
   "source": [
    "from sklearn.metrics import r2_score \n",
    "r2_score(y_test, y_pred5)"
   ]
  },
  {
   "cell_type": "markdown",
   "metadata": {},
   "source": [
    "### The R-Squared of the model 5 is 10.16 %"
   ]
  },
  {
   "cell_type": "markdown",
   "metadata": {},
   "source": [
    "### R-Squared (R² or the coefficient of determination) is a statistical measure in a regression model that determines the proportion of variance in the dependent variable that can be explained by the independent variable. In other words, r-squared shows how well the data fit the regression model (the goodness of fit)."
   ]
  },
  {
   "cell_type": "markdown",
   "metadata": {},
   "source": [
    "## Conclusion: \n",
    "## There are five models for the car price data and we build different regression model for different situations.\n",
    "## The performance of the models are give as:\n",
    "## The R-Squared of the model 1 is 89.11%.\n",
    "## The R-Squared of the model 2 is 89.10%\n",
    "## The R-Squared of the model 3 is 85.06%\n",
    "## The R-Squared of the model 4 is 94.55%\n",
    "## The R-Squared of the model 5 is 10.16%\n",
    "\n",
    "## The criteria is that a higher r-squared indicates a better fit for the model.\n",
    "\n",
    "## Model 4 is best on the basis of high R - Sqaured score for the  Random Forest Regression model."
   ]
  },
  {
   "cell_type": "markdown",
   "metadata": {},
   "source": [
    "## Prediction of x test with Random Forest Regression (Model 4)"
   ]
  },
  {
   "cell_type": "code",
   "execution_count": 50,
   "metadata": {},
   "outputs": [
    {
     "name": "stdout",
     "output_type": "stream",
     "text": [
      "[23149.833333333336, 18317.5, 9225.4, 21693.5, 16111.9, 14045.0, 20363.8, 12750.5, 15367.4, 29010.433333333338, 10160.0, 11368.0, 14775.4, 26336.8, 18022.9, 20152.5, 25125.4, 4025.3, 25719.0, 5474.4, 14234.8, 20968.0, 17883.7, 14061.6, 9869.4, 34215.2, 9095.0, 14956.7, 31638.3, 8647.6, 22477.0, 12390.0, 7754.2, 11607.5, 18243.2, 10529.7, 19990.1, 8040.4, 23468.0, 12634.2, 26740.0, 15378.8, 18638.1, 8721.8, 10566.3, 25690.0, 11623.1, 29184.1, 20510.6, 9480.2, 9932.1, 9562.0, 14125.6, 31839.5, 15575.9, 15615.1, 18167.9, 9443.1, 15247.5, 17075.3, 27455.8, 15131.1, 6232.3, 18867.8, 26858.8, 21490.5, 18143.9, 19200.7, 25381.0, 23670.2, 8263.5, 20155.75, 25124.7, 14354.6, 19339.1, 11125.0, 10338.8, 9123.4, 9442.6, 13191.6, 17632.5, 19264.0, 25140.6, 12183.8, 10302.9, 21049.5, 23460.8, 9090.1, 42346.0, 7266.0, 14319.9, 8682.0, 9100.0, 9997.0, 21872.5, 24691.8, 13783.3, 20998.0, 19193.4, 11582.9, 23520.0, 27963.6, 28994.8, 9981.8, 22119.8, 17266.5, 10205.9, 4245.0, 8208.3, 31702.0, 13609.3, 18011.8, 10157.3, 11561.3, 19575.5, 29648.0, 8968.9, 31770.0, 23322.4, 21128.0, 20105.9, 26689.3, 25503.1, 10370.1, 38171.5, 28414.0, 10769.857142857143, 17298.0, 19908.47, 25630.5, 22431.1, 11615.0, 20112.9, 19474.5, 18280.5, 20082.2, 11296.0, 14353.0, 35528.2, 5731.9, 6316.0, 13744.8, 27534.5, 12413.7, 14837.7, 24633.7, 21020.4, 18252.3, 21842.4, 33291.6, 12033.1, 10783.6, 13012.2, 14149.1, 48334.3, 10179.0, 21362.3, 32484.0, 25057.7, 7458.0, 15837.3, 21848.6, 16095.9, 17573.9, 20271.6, 9423.5, 16745.5, 24996.0, 19175.8, 12179.2, 31181.1, 12367.0, 8613.3, 40639.3, 12336.5, 24087.0, 17616.1, 43326.0, 17298.0, 32806.9, 27929.4, 14055.4, 15193.0, 15183.2, 20868.3, 18561.8, 17524.7, 20945.7, 6432.2, 11247.5, 13231.7, 17507.9, 21545.3, 18286.3, 19391.1, 20170.4, 10187.8, 20429.649999999998, 20682.2, 10907.1, 22995.5, 29368.7, 24993.4, 10565.0, 12990.7, 20247.5, 26098.0, 17198.3, 21222.9, 6244.0, 11733.8, 7218.8, 8570.3, 9521.4, 9252.2, 12255.2, 26788.3, 7725.0, 27627.6, 9854.6, 5895.2, 9998.7, 13513.0, 18517.3, 18185.8, 17024.1, 11368.0, 6182.4, 19692.7, 8272.3, 11649.2, 12021.9, 20161.8, 9488.9, 28766.4, 8578.1, 8814.7, 14439.543434343435, 17539.7, 12395.95, 19755.4, 14298.0, 20450.7, 12115.7, 24035.6, 19703.9, 10300.0, 20540.3, 16978.7, 17350.6, 18082.0, 15521.3, 5553.5, 12304.1, 21423.0, 7836.1, 18797.4, 11627.6, 29424.0, 14903.0, 11522.0, 17981.0, 11190.8, 43445.5, 12741.0, 15350.6, 9123.4, 30723.9, 20457.0, 20179.2, 8572.0, 10350.1, 20380.63333333333, 10449.6, 16600.0, 10057.8, 14831.5, 13456.8, 15729.9, 14092.1, 9916.4, 44031.7, 31522.0, 11398.5, 22375.9, 9859.6, 29716.3, 14940.8, 15108.6, 7498.3, 20307.98333333333, 21489.7, 21437.9, 9931.81111111111, 8396.6, 12879.7, 6304.9, 11759.6, 12132.5, 15510.0, 13163.0, 17047.0, 10116.8, 14083.6, 9550.0, 18399.6, 37072.0, 15075.0, 22602.053333333337, 17408.3, 19567.5, 27548.0, 5275.7, 14264.3, 16318.6, 13084.1, 15180.3, 32298.2, 10757.2, 15757.6, 25398.6, 14269.3, 8981.5, 7880.6, 7300.5, 12248.2, 13318.8, 9312.8, 17356.6, 8777.8, 16598.1, 31360.0, 9506.3, 20374.4, 20045.9, 17048.7, 20891.9, 9656.7, 19242.0, 22593.5, 8891.1, 6334.0, 23468.0, 29446.5, 21426.4632034632, 30370.4, 21280.7, 21328.3, 9754.7, 11062.1, 9980.9, 13223.5, 16792.7, 18100.5, 26314.3, 16734.8, 7091.5, 16403.8, 11228.7, 22891.56666666667, 41389.6, 24777.2, 23779.3, 11732.4, 16869.5, 16315.1, 16166.2, 21226.7, 35990.0, 20502.6, 23982.6, 17558.4, 13167.2, 15425.7, 13466.2, 16453.0, 7448.1, 8895.7, 24739.7, 7198.4, 19108.8, 10595.7, 28072.0, 9083.8, 11621.3, 14669.0, 16852.4, 14881.5, 21015.1, 8000.0, 10005.5, 12648.7, 19151.0, 27092.0, 16929.0, 10190.9, 17389.4, 24840.0, 9467.1, 9826.8, 27917.1, 26685.8, 13548.9, 10053.705399863295, 21102.0, 10299.042857142858, 6098.5, 18694.55, 13450.9, 23014.3, 9739.7, 31269.5, 21871.333333333332, 12384.2, 13638.3, 9590.4, 6065.9, 12441.2, 22048.4, 19625.1, 8459.9, 9028.9, 10381.0, 25662.5, 24589.2, 17288.4, 15923.4, 28198.9, 17202.5, 17703.6, 17173.2, 17927.1, 9732.9, 11262.5, 10340.476666666666, 10585.9, 17654.1, 8734.0, 12332.8, 14486.383333333335, 11574.1, 17298.0, 11223.0, 4998.9, 27476.283333333333, 29765.4, 24298.9, 22478.9, 21592.9, 20005.5, 31781.8, 13265.3, 19686.0, 9403.8, 10660.6, 28991.4, 13702.9, 7935.8, 10001.1, 29322.0, 26999.3, 30983.7, 19974.325, 4248.8, 17722.3, 25490.1, 28763.2, 14697.1, 17538.5, 17649.8, 12069.8, 13037.0, 27517.0, 9898.7, 22022.1, 17136.5, 22147.7, 20607.1, 18557.3, 12888.2, 11845.1, 15208.1, 10155.9, 13795.2, 25943.7, 30046.1, 17962.3, 12708.0, 4568.0, 17995.6, 18773.0, 10248.2, 7262.9, 14368.6, 9975.7, 21510.5, 7853.6, 17401.3, 21231.6, 8928.9, 14984.4, 11622.5, 17713.0, 14161.4, 4568.0, 21294.0, 26188.0, 13184.8, 19032.9, 18191.9, 10568.2, 18897.7, 21941.5, 11125.3, 22657.25, 14584.5, 22132.0, 31990.7, 10909.0, 13150.0, 25841.36666666667, 42420.6, 9425.7, 11446.0, 16044.5, 21433.6, 26435.8, 27964.1, 28015.8, 22263.3, 19027.4, 22058.7, 7262.2, 9945.5, 25812.933333333334, 19366.6, 16044.5, 10901.0, 18869.3, 8345.9, 5898.8, 9649.1, 17313.3, 21622.4, 19101.9, 25413.2, 29654.8, 25775.5, 9048.9, 48492.3, 19644.9, 8904.2, 20617.314285714285, 21498.0, 33697.0, 28785.9, 18784.2, 13577.5, 24157.4, 8547.6, 6139.9, 22511.866666666665, 16772.0, 9552.0, 9905.1, 9756.7, 29416.5, 10449.6, 21507.7, 24296.0, 13290.5, 25236.7, 23104.8, 10933.0, 13779.1, 24989.8, 18890.9, 18560.9, 13851.5, 24495.9, 19591.3, 32598.5, 19489.9, 18557.3, 23164.5, 23825.1, 11530.6, 13449.0, 21132.6, 20457.0, 25957.1, 16436.0, 13482.0, 5836.9, 20204.5, 19877.4, 17595.7, 8248.9, 30249.5, 8901.2, 12477.4, 25143.2, 21746.1, 7983.0, 10287.7, 8227.4, 16701.0, 16791.0, 17458.0, 20185.916666666664, 3935.0, 14416.5, 7632.8, 17537.9, 19043.0, 29579.3, 20449.9, 17197.7, 17968.2, 29894.0, 13254.5, 4633.0, 21633.1, 15277.1, 9995.8, 17090.4, 11802.5, 21100.9, 5319.5, 13678.8, 9959.0, 11539.4, 29412.0, 11518.0, 11364.3, 32026.4, 24031.1, 8234.0, 12280.5, 15568.1, 12270.1, 17043.3, 12370.0, 24651.9, 10580.5, 14862.9, 24139.8, 18356.8, 6164.0, 7605.5, 8006.6, 30873.0, 20103.7, 21280.7, 19690.916666666664, 7929.7, 11863.5, 8133.8, 23702.2, 15319.1, 18897.7, 8450.6, 17292.0, 8004.8, 16612.1, 9533.466666666667, 21545.7, 6366.2, 31487.3, 9048.9, 27753.8, 8224.7, 8612.6, 11823.9, 20406.1, 22698.5, 14884.3, 8142.8, 22181.3, 14467.8, 12998.2, 20519.6, 13729.4, 11978.3, 8430.1, 13744.8, 8614.3, 11147.5, 10088.2, 4408.6, 7263.0, 17769.6, 18736.8, 7597.8, 31570.9, 28276.5, 13614.5, 19625.0, 10940.5, 23524.0, 26190.1, 21790.5, 19860.9, 9422.5, 26433.8, 12661.9, 15876.4, 13345.4, 19772.5, 11155.2, 25608.7, 12098.1, 40090.2, 13122.9, 13695.4, 12426.8, 9247.5, 16937.985, 10020.6, 22599.64285714286, 25878.1, 15112.3, 11315.5, 24395.5, 20641.4, 18058.4, 21245.0, 17290.0, 11318.4, 20421.9, 14205.9, 18973.7, 10063.6, 28160.5, 13545.3, 10696.5, 23296.9, 42949.4, 10629.7, 20163.0, 32536.0, 14378.0, 17621.1, 20231.2, 10266.2, 18547.6, 14925.0, 9920.5, 15575.9, 16985.6, 14191.3, 13449.0, 19556.0, 15224.9, 24938.0, 27933.9, 13395.0, 19746.7, 18901.0, 11478.7, 17790.8, 18175.8, 6670.5, 57391.4, 28957.2, 20390.5, 26668.4, 19750.3, 20171.4, 21304.401666666665, 29384.5, 10988.0, 17435.5, 18968.5, 9115.8, 54294.2, 14104.5, 15151.0, 13844.0, 31825.0, 16915.0, 7673.9, 8040.8, 18056.1, 27406.8, 19977.0, 17589.4, 15037.2, 10287.4, 24106.3, 10818.5, 17085.9, 24559.4, 12589.9, 11789.0, 21701.5, 16027.2, 10616.8, 7669.8, 10440.7, 16779.4, 11391.0, 15212.3, 18975.6, 23282.0, 16780.6, 15846.0, 10478.9, 11925.1, 20843.1, 9750.0, 7744.4, 10182.3, 20857.65, 16179.6, 6521.5, 13307.2, 6644.8, 13018.4, 15775.4, 15585.0, 9821.666666666668, 8495.2, 23149.833333333336, 19823.8, 18364.7, 14512.0, 9949.1, 27875.3, 10758.5, 11441.6, 9618.0, 22508.1, 18964.6, 5669.7, 21356.5, 19694.3, 12027.3, 16325.9, 22073.2, 9214.1, 6991.5, 29184.1, 22956.5, 16080.041666666666, 5999.4, 7385.4, 16418.5, 6821.3, 15192.5, 13817.7, 11243.9, 32447.9, 8349.5, 16938.7, 13788.8, 19782.0, 12434.1, 8967.9, 9161.8, 7872.5, 12374.0, 13935.7, 17434.9, 9514.9, 7565.6, 9233.4, 16917.2, 8544.2, 2681.5, 17709.2, 24001.6, 18108.5, 19449.6, 10980.0, 29762.5, 23158.6, 15207.9, 20294.2, 13914.5, 18803.6, 27826.0, 4157.0, 35896.6, 10008.8, 23662.7, 18320.9, 16629.0, 23043.499999999996, 15679.1, 10016.6, 21003.6, 10321.7, 22747.6, 9595.2, 5309.0, 35896.6, 19089.0, 19783.7, 8346.4, 22483.0, 22826.7, 14109.1, 16176.1, 24206.4, 20568.9, 11096.9, 4379.4, 20998.0, 27335.4, 16361.1, 13337.7, 18590.0, 7306.3, 10195.5, 21131.6, 21170.8, 31238.9, 12219.7, 16142.6, 19193.9, 18641.3, 11191.5, 14439.543434343435, 7397.1, 10569.0, 22270.7, 12019.0, 3425.0, 17688.1, 13771.9, 8718.7, 19430.4, 10354.2, 9703.6, 15904.2, 12684.7, 19325.2, 19856.4, 10285.0, 12006.5, 13233.3, 16117.4, 12829.9, 8423.0, 25675.3, 23609.3, 12816.2, 10092.5, 17299.7, 9414.5, 8422.7, 32170.6, 15884.6, 21994.5, 13620.5, 10127.0, 41878.5, 19356.4, 28518.3, 16223.5, 12175.4, 18164.1, 5766.3, 9310.0, 21091.4, 2361.5, 29874.1, 18437.2, 11980.2, 21130.6, 19482.0, 22747.6, 23800.7, 13573.5, 22302.033333333333, 8078.9, 22822.35, 29756.8, 16985.5, 19721.5, 10346.9, 30737.9, 17792.9, 17513.0, 6294.3, 8145.8, 16557.6, 19933.9, 17318.1, 19474.5, 10300.0, 18430.7, 13642.0, 24237.0, 17018.0, 8344.0, 23510.3, 17178.6, 19998.0, 22728.2, 11583.8, 8425.0, 16956.5, 11220.2, 20159.4, 5882.1, 15579.4, 10173.6, 8770.0, 11385.7, 11916.9, 22943.3, 16448.4, 8684.6, 15818.7, 14930.1, 27116.8, 7908.5, 30993.4, 21701.399999999998, 20673.7, 13448.4, 13970.6, 9158.2, 10682.9, 20555.0, 19938.370000000003, 23656.0, 17599.6, 20902.886666666665, 14941.2, 18828.2, 10075.8, 12076.4, 18744.5, 19864.4, 13577.2, 9147.3, 11230.4, 15566.0, 21490.5, 10727.5, 19202.0, 15115.0, 14221.3, 6888.8, 10576.7, 10208.1, 10506.0, 15514.4, 16971.3, 12611.7, 9346.5, 30768.289377289377, 23183.0, 9737.5, 18074.5, 14021.0, 20800.25, 14364.9, 28285.7, 5935.5, 38525.8, 20262.2, 6299.0, 21693.5, 12474.0, 11851.5, 14830.0, 21397.2, 3243.1, 11447.5, 24790.3, 10990.3, 29205.5, 16488.8, 24598.7, 10171.6, 15255.8, 11296.2, 19596.0, 12961.8, 18665.5, 4171.0, 13440.0, 16106.7, 19964.1, 25121.8, 19865.9, 12210.5, 29816.5, 20391.666666666668, 23232.7, 16909.7, 13056.3, 19966.1, 12583.0, 17308.1, 18311.5, 22921.3, 9178.5, 8733.0, 29121.5, 8794.8, 6206.0, 9505.0, 21768.9, 10840.8, 12157.8, 16366.0, 17798.5, 8318.2, 25685.8, 27995.0, 19480.1, 9592.45, 7147.0, 13083.7, 24996.8, 21378.3, 9592.45, 13978.0, 16442.7, 11473.0, 20082.2, 10394.5, 15865.5, 19006.7, 8578.7, 2783.0, 24386.8, 10863.3, 11554.3, 10499.6, 39886.0, 6554.0, 13332.0, 9858.1, 22796.2, 15898.8, 16932.2, 12525.7, 21607.9, 21545.3, 9860.3, 21711.333333333332, 10159.4, 29155.5, 6595.3, 15181.4, 16198.5, 6351.4, 24732.0, 20729.2, 13366.2, 12307.2, 12194.8, 9792.0, 28183.9, 5801.6, 8821.7, 8446.5, 9152.1, 27240.3, 11882.1, 14359.8, 14743.0, 32590.0, 14513.1, 21662.4, 17520.6, 29804.5, 10347.4, 21489.7, 10273.7, 12519.6, 12739.9, 17581.776666666665, 21674.4, 12652.0, 13670.3, 6196.0, 29110.5, 21842.7, 7143.0, 15296.0, 20689.1, 20853.6, 28521.7, 16877.9, 9398.5, 9939.2, 20138.0, 14936.1, 22398.0, 9325.5, 15495.8, 15799.7, 18096.1, 9668.8, 19395.1, 28912.9, 14731.9, 20793.9, 19280.6, 7188.4, 13306.2, 25591.7, 18624.9, 19817.1, 19801.0, 20853.6, 22115.5, 11556.3, 9759.683333333332, 20319.2, 25398.6, 12587.6, 19189.0, 17534.5, 10148.4, 9571.9, 21186.083333333332, 21190.0, 13997.1, 11616.5, 12569.3, 4439.4, 17022.2, 11674.5, 10546.6, 13142.8, 47692.8, 11283.5, 20721.5, 25090.0, 24523.3, 17498.3, 10832.8, 18695.1, 13539.0, 14560.5, 22119.8, 28505.3, 19995.6, 18736.2, 19426.9, 8392.7, 14760.8, 9603.7, 21848.6, 13490.4, 15848.5, 7894.5, 4302.3, 21498.0, 10544.0, 12661.9, 9603.3, 19111.5, 12404.683333333332, 15874.7, 12526.9, 8055.9, 18027.0, 14789.5, 12866.9, 16989.7, 14989.6, 17350.1, 21335.1, 10170.4, 28582.3, 17677.7, 10741.6, 26000.6, 20357.2, 15116.3, 10584.2, 19922.9, 16360.2, 9818.3, 18815.3, 19293.0, 19568.9, 11882.5, 15407.2, 14249.0, 11559.7, 13737.5, 20282.1, 21415.1, 15500.0, 12531.4, 9857.9, 11246.3, 14875.25, 17213.4, 13564.7, 12760.0, 11530.6, 10476.9, 18164.1, 18224.9, 23197.6, 13765.0, 37639.8, 16526.7, 30294.3, 27600.5, 10543.9, 11282.5, 23751.3, 17111.4, 18182.0, 12807.8, 22092.7, 10826.5, 7557.5, 7262.9, 10698.0, 12845.6, 14407.4, 12865.9, 19854.3, 22095.2, 18022.9, 16949.6, 26086.2, 21424.3, 9764.0, 9109.8, 22351.3, 13544.6, 10034.0, 9897.4, 9245.7, 14123.5, 18649.0, 16787.5, 18293.4, 29362.2, 15175.8, 12610.3, 8621.0, 6498.0, 18555.2, 13805.3, 22252.2, 33948.0, 25123.0, 17282.5, 20578.5, 28285.7, 12451.4, 29942.7, 18110.428571428572, 5697.9, 23027.2, 6669.4, 10493.6, 29462.0, 15057.4, 20152.799999999996, 18434.7, 9510.0, 16998.4, 22928.06666666667, 25593.2, 15976.5, 18575.1, 16705.9, 31795.0, 11941.7, 11381.2, 8253.8, 8268.5, 29796.3, 9752.2, 6695.5, 29589.3, 17176.7, 20720.3, 23984.3, 23977.3, 8263.5, 22311.0, 11659.2, 6307.0, 12523.6, 12482.5, 10482.6, 19794.8, 17279.9, 6392.0, 15655.8, 10960.8, 12872.1, 23920.0, 8587.0, 28519.1, 9874.2, 8244.2, 11102.9, 20376.9, 20538.4, 35192.0, 18531.3, 24847.7, 11110.5, 24958.1, 10880.0, 18597.8, 29382.1, 25298.9, 10178.0, 21232.5, 19085.0, 27171.1, 15323.0, 14186.0, 12467.1, 14870.5, 26635.7, 11667.3, 12789.2, 24120.0, 17845.0, 7107.6, 8081.5, 12195.5, 16678.5, 23658.0, 23806.8, 28293.5, 9523.4, 8405.6, 11677.2, 30184.5, 28262.2, 25430.2, 45041.4, 28745.1, 63835.9, 13587.0, 9434.2, 7639.8, 9410.6, 14229.1, 15394.0, 10172.0, 15671.097619047618, 8612.0, 13392.3, 7187.5, 14309.7, 22534.5, 22432.1, 11845.1, 22491.4, 11994.5, 14655.6, 19031.6, 7147.7, 38557.5, 12227.9, 13360.1, 21445.9, 32790.0, 20380.0, 20103.3, 18131.8, 8835.5, 14516.4, 23731.0, 11225.0, 13319.9, 11848.2, 42094.0, 18757.8, 10169.9, 10359.2, 32590.0, 24390.8, 9463.7, 15844.1, 20271.4, 16635.3, 17290.0, 11898.9, 15568.7, 10499.4, 14251.1, 7498.3, 13194.0, 19545.0, 18628.6, 17398.0, 28203.0, 14036.4, 10149.5, 21612.5, 8244.7, 12395.5, 13348.2, 19240.0, 7333.4, 39891.9, 16104.3, 20112.0, 22445.5, 7033.8, 13942.7, 28915.7, 19715.3, 8168.8, 19024.6, 23039.9, 17764.7, 10733.9, 8849.3, 21388.2, 8326.2, 9019.2, 14518.0, 16892.5, 17879.5, 10494.0, 8826.0, 19479.8, 12361.0, 35914.4, 5541.0, 5843.5, 17341.8, 10233.7, 11154.9, 13168.4, 10071.0, 21328.3, 15396.2, 20843.333333333332, 26537.5, 14131.8, 23413.7, 12526.7, 7759.8, 10492.1, 24951.0, 14341.75, 11929.0, 8344.3, 24868.7, 18197.8, 9324.1, 15973.8, 29230.1, 17694.6, 11538.4, 26081.5, 10928.5, 9257.1, 10850.0, 12238.3, 31155.5, 18402.1, 17248.25, 17457.7, 8162.7, 8009.4, 8655.2, 13356.4, 14363.2, 19642.5, 17502.8, 10181.3, 15396.1, 20057.1, 16955.9, 22367.8, 31736.0, 20669.1, 38856.5, 19529.8, 6353.0, 9342.9, 6991.5, 28301.0, 15914.8, 21397.3, 13237.3, 9372.4, 8928.9, 29762.5, 24739.4, 13842.7, 10284.9, 16638.1, 21532.166666666668, 8206.3, 32953.0, 9825.6, 17381.6, 18917.6, 20889.24166666667, 42450.9, 28472.3, 20663.5, 6471.0, 13543.2, 34936.8, 9158.2, 19652.0, 12292.8, 10098.4, 11467.2, 37645.3, 9359.2, 14371.6, 10290.0, 24967.6, 20588.4, 44295.3, 8532.9, 17107.3, 34073.4, 11348.7, 21146.3, 18192.4, 25810.7, 13808.8, 24343.0, 12340.8, 22762.0, 19343.1, 21057.5, 24087.18666666667, 19974.325, 28549.8, 11153.2, 19258.6, 10641.3, 17806.3, 5572.7, 11751.5, 21667.5, 29325.4, 25456.7, 11938.6, 6662.4, 13333.7, 15395.1, 18399.6, 20523.1, 12735.1, 22725.0, 15993.0, 12752.9, 7313.9, 20902.886666666665, 9865.1, 13445.0, 18529.9, 17186.0, 20193.4, 19611.9, 19632.0, 17515.7, 25283.3, 3455.5, 4922.9, 19922.833333333336, 11521.6, 9501.9, 10371.3, 14866.6, 21284.1, 16791.9, 14712.0, 8263.5, 13338.5, 8882.3, 21768.9, 10368.3, 12798.5, 8406.0, 12456.9, 18435.8, 13300.8, 8008.4, 20334.8, 23278.7, 15939.6, 14167.7, 9455.7, 22835.8, 9318.4, 18297.2, 19786.2, 10359.2, 13677.4, 15126.4, 11530.6, 9166.8, 19000.6, 8344.7, 17676.8, 9917.5, 18364.7, 10784.8, 16348.4, 10144.2, 6805.1, 21610.2, 17298.0, 27728.1, 15741.0, 13332.9, 11096.8, 16878.9, 12160.2, 10974.4, 9398.5, 11677.2, 21545.4, 25292.8, 10884.1, 23491.7, 19174.5, 15182.9, 12333.4, 11518.7, 14760.4, 11879.0, 19428.4, 24066.1, 9261.1, 26819.8, 32790.6, 7815.0, 19952.5, 13643.0, 22398.0, 12197.1, 27013.5, 20493.9, 18559.3, 22481.7, 12103.5, 12666.85, 14871.0, 28769.5, 29495.7, 14933.5, 13688.1, 13520.0, 13565.6, 29250.7, 17352.0, 28812.7, 11166.2, 12962.4, 6114.4, 23258.1, 23825.1, 19284.0, 33494.0, 18289.3, 29897.2, 8857.8, 22954.8, 18265.5, 14023.5, 17507.6, 10573.8, 8647.4, 8647.4, 10009.1, 9931.81111111111, 20348.1, 23587.5, 28285.7, 6432.0, 3145.8, 12986.0, 12587.5, 7300.7, 42892.9, 17202.7, 8405.6, 18016.0, 39519.5, 10243.375, 24990.9, 7397.0, 21347.0, 11858.6, 14463.5, 10776.2, 13445.0, 8775.7, 8819.0, 21998.3, 17885.9, 34868.5, 18924.7, 16653.4, 13945.5, 22751.866666666665, 20642.6, 9672.5, 10566.7, 20408.2, 8426.2, 17588.2, 11989.8, 9198.0, 16682.633333333335, 18855.0, 20499.5, 13250.0, 18610.1, 14261.8, 10666.666666666666, 19088.0, 15671.097619047618, 17425.5, 13707.7, 6454.0, 8661.2, 17115.0, 24604.5, 11782.4, 24704.666666666668, 13326.2, 12057.4, 14699.5, 21359.0, 14674.0, 19517.4, 25197.1, 24385.1, 23177.5, 6332.0, 21598.7, 14324.6, 12118.5, 19600.9, 17508.4, 34622.6, 10017.8, 13631.4, 12187.8, 10017.8, 13153.9, 22022.1, 15436.0, 24614.4, 10067.7, 25171.6, 33101.7, 20213.2, 13641.3, 37413.2, 34288.8, 18515.5, 10039.5, 20673.9, 6283.9, 10542.0, 16418.5, 11671.0, 10779.0, 19428.0, 8173.5, 21167.9, 23690.1, 24062.7, 22522.3, 8386.2, 23039.9, 42544.2, 29563.333333333336, 11265.2, 4132.5, 25689.8, 14800.0, 10161.8, 30538.0, 27565.65, 35990.0, 8506.5, 13301.3, 14431.3, 29834.5, 16317.033333333335, 23212.8, 13993.6, 24196.5, 9326.4, 12641.7, 9795.0, 23457.0, 16026.9, 13556.5, 14536.6, 12630.0, 7278.3, 7106.4, 9771.6, 14603.6, 16949.6, 11054.9, 20998.0, 16261.1, 10476.3, 48235.6, 24923.109523809522, 13089.0, 13100.2, 29031.4, 13596.2, 10566.9, 27092.2, 12277.6, 25199.9, 15307.1, 6411.0, 41328.159999999996, 9512.6, 7328.3, 19704.6, 40393.6, 26292.0, 27825.3, 8572.8, 12281.6, 18270.5, 11303.0, 23080.5, 7997.5, 9352.6, 14065.4, 16001.8, 9931.81111111111, 31312.6, 10340.476666666666, 16432.7, 17544.0, 8793.6, 7826.3, 20404.9, 18152.4, 21121.9, 8438.7, 18654.833333333332, 19281.9, 22143.7, 17421.3, 10279.6, 10591.5, 44753.4, 17536.2, 14915.9, 21788.6, 24972.833333333332, 14419.0, 9380.0, 9424.5, 12589.0, 12451.1, 20981.9, 3133.0, 17502.6, 17396.4, 23895.0, 14151.9, 9318.4, 12150.0, 11095.4, 6806.5, 11240.8, 21440.7, 33644.9, 14247.8, 14796.766666666666, 6943.8, 21732.95, 14900.0, 5865.4, 24654.6, 13289.0, 9346.5, 10835.9, 8704.8, 11558.0, 11936.4, 24869.4, 29321.0, 13548.9, 8341.7, 24244.9, 11124.9, 14358.8, 11040.5, 21625.9, 10123.0, 18863.0, 25173.7, 14277.6, 10666.0, 20135.7, 15748.7, 24120.8, 19706.1, 10056.6, 19605.9, 15041.4, 15254.2, 13008.1, 26702.7, 12237.7, 23652.8, 13638.3, 11773.6, 23196.3, 10109.5, 11995.0, 21498.0, 6868.5, 30074.0, 9653.2, 17396.1, 9819.205, 9191.3, 7577.3, 10593.596633629528, 29891.5, 6422.5, 17295.9, 21864.5, 25412.0, 11471.2, 9431.8, 10835.6, 13939.0, 10816.2, 8699.4, 17154.075, 19390.5, 15986.2, 10700.2, 17365.8, 8157.8, 27089.5, 18531.3, 19351.9, 12625.0, 10563.3, 32826.4, 20510.4, 8095.0, 20757.7, 9403.5, 17294.4, 17593.8, 10844.748067210567, 10948.9, 9472.7, 13090.8, 6825.3, 20737.1, 13558.2, 10899.8, 9305.0, 22286.2, 18968.8, 19445.6, 16407.2, 27220.2, 10748.9, 22831.0, 29034.7, 10276.7, 8995.0, 8778.9, 19556.0, 12531.5, 9434.4, 9058.8, 10666.666666666666, 10968.7, 14154.1, 10696.5, 18062.4, 5751.1, 13944.3, 10656.6, 8207.7, 17383.5, 17027.0, 13462.3, 9845.4, 14794.7, 17092.1, 12332.5, 9419.5, 17057.6, 16124.6, 10467.5, 22598.0, 16133.3, 10403.166666666666, 11347.5, 10790.7, 13095.6, 10590.6, 27550.8, 19792.1, 20521.525, 12430.9, 30433.3, 17146.4, 11214.0, 20591.0, 10097.9, 13252.2, 21845.1, 8680.1, 15636.0, 26189.9, 9797.5, 4970.1, 10340.476666666666, 29424.0, 12118.5, 23043.499999999996, 39519.5, 16557.5, 12687.4, 22393.7, 20142.0, 12637.0, 7683.3, 20466.5, 11984.0, 24769.6, 17001.9, 20267.3, 13481.5, 9307.4, 15645.0, 14752.1, 6495.9, 14370.7, 12545.0, 7794.6, 27880.8, 20345.3, 24739.7, 33579.9, 13867.7, 18759.1, 40398.5, 18574.9, 17997.2, 8560.4, 9897.4, 10635.7, 14732.5, 13875.6, 17318.1, 7743.2, 26298.0, 23138.0, 9561.1, 7515.5, 12304.5, 11648.1, 42573.9, 13547.8, 13577.2, 30123.6, 15175.1, 4301.3, 10742.7, 5814.4, 8881.0, 17453.2, 9714.5, 24996.8, 18363.7, 11498.4, 10710.8, 41743.8, 21437.5, 8516.5, 26219.666666666664, 16370.4, 24025.3, 13055.3, 30511.3, 13093.5, 14732.1, 17789.0, 15097.4, 21190.95, 11994.0, 16425.5, 18694.55, 13395.605, 14390.0, 11980.2, 26746.5, 16269.4, 21641.8, 15256.0, 6387.5, 10744.6, 9350.3, 14125.0, 12448.3, 22500.9, 6698.5, 25617.8, 21719.0, 33755.0, 6827.8, 21743.3, 25292.8, 22602.053333333337, 22367.8, 10119.2, 13571.9, 21656.333333333336, 5228.4, 14152.7, 18376.3, 19692.1, 19013.0, 31517.0, 15330.0, 12093.0, 9195.0, 26537.5, 25810.7, 30842.4, 12002.8, 9221.0, 16638.1, 13605.7, 16176.083333333332, 9288.4, 13568.8, 11308.2, 16369.2, 8361.4, 20557.6, 10796.3, 29073.8, 28195.1, 10095.0, 15384.9, 19996.0, 7969.9, 17544.0, 19470.8, 9821.666666666668, 8234.0, 15185.8, 40539.2, 24090.5, 26702.7, 13004.8, 8459.6, 6567.8, 37935.7, 28577.0, 9875.5, 6743.1, 20890.1, 22205.2, 14286.1, 12581.0, 9354.0, 12487.5, 28390.8, 21234.35, 22870.1, 18894.5, 10006.619444444445, 11498.4, 25687.0, 23668.9, 26348.6, 11131.6, 18427.8, 17618.1, 7325.4, 18286.9, 19811.4, 14489.6, 31692.0, 17109.2, 9653.2, 15370.5, 23453.9, 16993.8, 17782.9, 18954.65, 10013.7, 50190.8, 41900.2, 18675.0, 9619.0, 7935.5, 20916.2, 9195.0, 8328.3, 6855.8, 23010.2, 12648.7, 10312.0, 22363.6, 26673.0, 13924.0, 20664.6, 8905.8, 12479.0, 14284.0, 9881.0, 7387.2, 9318.5, 8389.6, 18111.7, 8638.7, 20388.55, 42962.7, 19089.3, 20452.4, 20953.966666666667, 14964.5, 29908.6, 9981.8, 22383.0, 24480.2, 11481.4, 28653.2, 7326.6, 11466.7, 11437.8, 48032.7, 20835.5, 29681.5, 21041.5, 26954.6, 33031.4, 11768.0, 10279.0, 9496.9, 12315.1, 9369.5, 15536.5, 9490.5, 16373.6, 8840.8, 31383.9, 18148.8, 21140.9, 19495.6, 6248.4, 5832.6, 27898.0, 25491.0, 26434.9, 28785.8, 13310.8, 16329.6, 17484.9, 14950.0, 32299.4, 10583.0, 19429.8, 7885.8, 17577.0, 16238.3, 19201.9, 14746.5, 21498.0, 6657.4, 17537.9, 12594.2, 12530.5, 24032.5, 24211.8, 13176.9, 9028.9, 15701.2, 14319.9, 7927.5, 14477.1, 21580.5, 13284.5, 11743.3, 20865.2, 9883.3, 17144.3, 32425.2, 10098.4, 29416.9, 27224.1, 12701.5, 34522.5, 22692.5, 13087.3, 15622.3, 13577.2, 15815.7, 18424.2, 24777.7, 9325.4, 20071.2, 17392.6, 24248.7, 24739.7, 16640.8, 29416.5, 9495.2, 25584.7, 29855.0, 12145.5, 19488.0, 20104.7, 18900.0, 18902.4, 8498.0, 38697.4, 8207.9, 17502.6, 20752.4, 5396.1, 15046.7, 10337.5, 7633.9, 19693.9, 14424.9, 10680.9, 19934.666666666664, 20580.2, 14251.1, 6536.9, 14084.0, 27162.13333333334, 7437.7, 13211.7, 8572.8, 27404.8, 22351.6, 22820.9, 16778.6, 7157.6, 6297.3, 10602.8, 46540.8, 9839.0, 11270.1, 8153.5, 13547.8, 11258.2, 20224.5, 11066.0, 12072.6, 20152.799999999996, 10325.7, 24990.8, 20415.2, 21722.9, 11521.6, 8554.0, 19805.8, 20998.0, 11758.4, 17165.0, 10057.5, 20185.916666666664, 16905.3, 22498.2, 13805.9, 9329.0, 17780.6, 49691.3, 12003.1, 17884.4, 21671.5, 28446.4, 22184.6, 10855.5, 28095.8, 29156.166666666668, 8335.0, 8075.1, 21177.2, 13067.5, 12923.1, 25801.2, 15500.0, 13726.9, 17437.1, 16888.5, 16727.6, 13438.0, 9797.9, 12966.1, 17955.8, 9931.8, 4438.3, 21697.3, 21466.9, 9754.3, 46678.2, 30494.9, 14149.1, 31275.5, 32349.3, 9743.2, 10550.7, 9936.6, 25124.0, 13227.0, 7756.6, 24067.4, 7396.5, 9196.4, 14395.4, 11952.2, 11578.4, 21123.5, 18576.5, 7513.5, 33932.5, 33222.5, 26146.0, 19598.0, 23911.1, 10273.7, 13246.6, 19658.3, 23415.5, 14118.5, 12246.2, 8483.2, 23282.0, 23795.4, 34991.2, 7556.5, 10351.5, 24951.0, 20065.8, 16976.8, 28674.0, 11151.5, 7012.0, 13913.5, 13868.9, 15484.0, 8430.9, 18021.4, 17151.2, 22844.9, 22346.5, 15664.1, 25366.9, 15103.6, 10360.5, 38991.5, 26328.5, 13105.5, 9373.6, 14796.766666666666, 30368.0, 12062.8, 16374.4, 12116.7, 23559.4, 18240.6, 20969.4, 28341.0, 8403.0, 20647.4, 30496.9, 10755.0, 12332.5, 12778.6, 13622.8, 27938.3, 7906.2, 8244.2, 27591.5, 22129.0, 13495.0, 10169.499999999998, 15568.7, 25171.6, 22593.6, 20257.2, 10789.3, 7517.0, 20886.1, 17014.6, 10004.4, 21101.0, 5062.6, 18694.55, 16346.6, 13426.6, 17487.3, 20886.1, 28413.9, 20190.9, 8971.5, 13254.4, 11298.6, 6764.2, 12104.0, 33210.7, 17137.1, 13500.0, 23999.9, 9250.3, 5678.6, 13666.5, 12550.0, 22896.5, 19763.6, 17789.4, 10340.476666666666, 11013.0, 13422.3, 25411.3, 13504.6, 17262.2, 22865.9, 8090.5, 11978.5, 10794.5, 16925.4, 19589.1, 10233.0, 13580.9, 25094.9, 7012.0, 12314.2, 19918.0, 28114.7, 21530.4, 8655.6, 10195.0, 5111.7, 25512.7, 16898.0, 18187.0, 10272.3, 11272.5, 22956.5, 6957.6, 17065.6, 3384.0, 14087.4, 13058.0, 9136.6, 8788.0, 10579.8, 41995.0, 21173.2, 11434.3, 10054.3, 19625.5, 12643.5, 19926.2, 11282.5, 16697.6, 19943.1, 45090.5, 21171.6, 21408.583333333336, 13153.5, 44497.0, 11934.7, 9152.0, 19265.7, 5073.2, 16695.9, 10829.6, 18624.0, 11364.3, 10325.7, 11946.0, 16962.0, 13808.4, 10299.5, 8779.0, 15710.3, 9075.0, 13997.9, 18765.2, 19332.6, 21332.1, 11547.8, 13378.2, 27535.3, 10136.6, 23207.4, 17989.9, 20441.8, 14920.0, 20544.1, 12531.4, 16938.2, 22537.5, 14458.6, 21067.4, 21186.083333333332, 20882.0, 6744.7, 23937.933333333334, 16939.1, 5934.7, 10668.2, 16929.5, 13383.4, 8214.8, 13531.9, 16881.3, 8424.4, 7164.3, 11600.4, 21593.2, 18542.3, 27049.1, 12975.8, 26908.3, 10966.666666666666, 13649.6, 14088.5, 31894.5, 23283.7, 9931.81111111111, 19225.4, 21126.7, 17494.8, 28982.9, 12361.1, 23435.1, 32283.4, 6616.0, 8406.0, 19997.2, 2303.7, 11768.0, 15947.3, 12237.8, 10362.8, 11524.5, 18328.9, 12737.5, 31585.9, 17198.2, 12652.0, 8911.9, 6799.0, 11603.8, 16074.3, 18244.2, 8040.8, 9579.95, 17433.7, 19047.6, 2825.0, 9466.0, 4028.2, 25147.9, 26597.4, 21595.6, 7828.6, 13850.8, 10319.1, 18629.5, 22998.1, 15054.7, 13797.3, 18950.0, 19282.5, 10766.1, 8982.9, 18572.5, 16341.1, 19938.370000000003, 21474.5, 9210.4, 8948.4, 13580.7, 16509.0, 10754.1, 5213.4, 20522.43333333333, 18105.3, 6193.3, 12608.6, 9341.08, 27572.25, 10862.0, 20431.5, 29251.9, 10828.7, 9152.1, 7348.5, 18452.2, 11995.8, 25740.0, 12579.1, 16495.6, 8425.7, 24812.1, 9728.7, 9595.2, 9635.9, 6603.6, 6755.7, 8032.4, 26971.1, 22357.5, 16321.5, 28143.0, 23214.5, 21048.9, 17052.1, 21498.0, 7267.6, 9147.3, 14614.5, 22839.8, 17564.2, 9908.4, 16661.0, 11876.3, 13669.1, 22590.4, 20045.0, 13166.8, 25813.0, 15543.4, 9435.3, 13089.0, 9004.8, 25648.5, 14994.2, 32394.9, 25181.3, 22204.3, 22517.4, 25241.6, 16986.3, 21372.7, 25527.7, 10492.5, 25641.8, 45752.4, 18819.4, 19770.905, 16700.1, 10194.0, 15671.097619047618, 19601.8, 7311.6, 25621.8, 19575.5, 9430.3, 18613.9, 22277.6, 30089.2, 23163.3, 5752.8, 13153.5, 11092.0, 15177.2, 12510.0, 25764.5, 18296.9, 31280.0, 21238.5, 19593.2, 20848.8, 12625.0, 21672.1, 16373.6, 24364.8, 13106.9, 23632.5, 12086.4, 11427.0, 46493.2, 18553.5, 10494.0, 11422.1, 7208.0, 21611.3, 15710.2, 8926.9, 16445.2, 12074.4, 6313.0, 11756.3, 6133.5, 43543.6, 8582.1, 17538.5, 17125.8, 17141.1, 8810.0, 8970.4, 16134.9, 18893.5, 7932.9, 20012.8, 34662.5, 21286.3, 24021.6, 27140.5, 8487.9, 12741.0, 4967.9, 24594.4, 12081.1, 22185.5, 13214.8, 15789.3, 13972.5, 10135.1, 35767.7, 14531.1, 9153.3, 22252.9, 10683.7, 31594.5, 12395.95, 16561.0, 13167.0, 23289.1, 9868.0, 19590.3, 9865.1, 22301.1, 16395.0, 19436.5, 16985.5, 23325.5, 8649.7, 12245.5, 10855.6, 19534.4, 12932.2, 14777.6, 9168.4, 12695.0, 14797.2, 12224.8, 15174.1, 29605.2, 22943.3, 24783.3, 11769.3, 8049.3, 21614.8, 18290.0, 10978.3, 23134.2, 12196.8, 9032.7, 13547.1, 10340.476666666666, 17764.1, 9447.0, 57491.0, 23239.3, 5216.8, 17217.3, 11412.8, 17192.4, 10213.7, 12439.7, 22240.1, 13036.1, 21262.3, 20904.5, 10602.8, 9739.5, 20447.0, 20292.9, 19441.6, 22126.7, 8185.1, 12236.5, 17160.7, 10457.2, 25281.4, 20285.7, 19418.8, 12292.9, 30228.9, 22469.0, 29189.9, 26451.6, 23368.3, 8143.5, 8395.5, 13222.8, 14965.8, 10361.8, 14636.9, 9973.2, 13307.8, 7250.0, 19300.1, 8009.3, 22062.3, 10723.6, 13288.3, 10274.867857142857, 23761.9, 19405.5, 15581.9, 10044.0, 9975.0, 20453.5, 16994.0, 12124.5, 19372.7, 8941.2, 10514.2, 16923.6, 7427.5, 17478.0, 14492.0, 22548.8, 25127.7, 32440.5, 11977.1, 20653.7, 19174.5, 10331.7, 9653.2, 30792.0, 9637.0, 17514.1, 24259.3, 19255.5, 26530.6, 17522.9, 10414.4, 19599.0, 9996.0, 8293.4, 18643.6, 9413.9, 25192.433333333334, 18872.4, 14582.6, 24392.0, 10299.2, 7023.1, 8735.5, 26272.1, 13077.2, 15077.1, 12997.2, 17738.6, 11846.8, 15877.6, 33500.7, 23692.2, 33538.0, 19073.0, 31133.3, 17254.8, 28369.533333333333, 20675.4, 14358.0, 20339.1, 11282.5, 21593.401666666665, 18924.6, 10537.8, 17298.0, 28640.7, 17836.7, 13220.0, 27737.06666666667, 19798.0, 11426.8, 20854.0, 16739.9, 12370.1, 9726.7, 18397.3, 20950.0, 10869.5, 12986.7, 22108.3, 10613.5, 9323.066666666666, 9434.4, 9411.3, 16436.0, 8897.4, 13998.0, 13577.8, 12074.5, 9373.6, 5426.5, 35972.3, 48235.6, 25966.5, 13599.7, 18613.0, 23975.733333333334, 13188.0, 28743.8, 9897.4, 20002.5, 22197.7, 20257.2, 27841.8, 13894.6, 19574.6, 10336.0, 19102.0, 12990.8, 31839.5, 18522.0, 24219.2, 10414.4, 7262.9, 32200.0, 13952.5, 13274.55, 26147.35, 13968.1, 30394.3, 20760.9, 13378.0, 17116.7, 13852.4, 6999.0, 19080.2, 12433.6, 10628.5, 11885.3, 13453.1, 13888.2, 23204.1, 9949.1, 12890.2, 28415.0, 9615.875, 19974.325, 34542.2, 29135.9, 30873.0, 10084.2, 30848.3, 20839.5, 13351.5, 4854.2, 14313.4, 12557.1, 9243.6, 14594.2, 17569.2, 18392.2, 20594.7, 9832.5, 11961.5, 13928.38, 10272.3, 11779.3, 10590.0, 5544.1, 28697.0, 17892.3, 19553.3, 8419.7, 26395.9, 11669.1, 12546.4, 19974.325, 6373.8, 29101.5, 22621.3, 12892.8, 16596.5, 7515.2, 19165.0, 22592.4, 10620.9, 13450.9, 11209.4, 28387.0, 16678.1, 13326.2, 25026.2, 14407.4, 24094.9, 20027.5, 21363.7, 47824.0, 8483.2, 15510.4, 28354.7, 10856.9, 20512.0, 11664.9, 12063.7, 17176.5, 8755.8, 16940.7, 27814.4, 23604.9, 26792.6, 6436.9, 23368.3, 13192.8, 21890.3, 16386.8, 20752.6, 13134.3, 25566.4, 22997.7, 8075.1, 16339.2, 8257.6, 27071.4, 23666.8, 9621.2, 9540.9, 14995.1, 13118.4, 14800.0, 9630.4, 17818.8, 19131.2, 13279.0, 24176.6, 15187.3, 6764.8, 7952.3, 7865.0, 6394.5, 11187.8, 12226.6, 19135.4, 6371.5, 20591.0, 20404.9, 24348.7, 23177.9, 30421.3, 16729.5, 15429.4, 13306.5, 10581.6, 6356.2, 15438.0, 12739.9, 18305.0, 24236.1, 30039.0, 7069.8, 6663.2, 21393.7, 10884.5, 13442.6, 19625.0, 19397.8, 32202.4, 30402.4, 19101.1, 14915.9, 19099.6, 14671.533333333331, 22489.9, 9964.1, 9138.2, 9777.1, 13024.6, 12947.9, 8285.9, 6567.8, 9879.1, 16079.0, 24120.8, 17298.0, 9033.1, 12180.4, 27483.75, 22191.4, 10735.7, 10924.2, 10634.0, 17304.2, 27080.6, 8640.0, 6855.0, 11578.9, 12450.2, 50190.8, 10605.4, 12617.3, 12827.9, 28765.9, 18535.9, 12745.9, 20112.0, 6995.0, 11578.9, 49892.6, 23508.1, 19379.2, 13194.0, 18706.9, 21787.0, 14970.4, 13197.1, 10284.4, 7217.3, 20436.13333333333, 7263.3, 15383.8, 14872.6, 27116.8, 14945.8, 11293.6, 10474.4, 20335.2, 27950.5, 32096.6, 27199.3, 14047.9, 9186.1, 16736.2, 13216.6, 15459.9, 18369.4, 15463.3, 25393.4, 17507.9, 12232.5, 12662.7, 17552.2, 12292.8, 12261.4, 5364.4, 13507.3, 9618.2, 11330.8, 10530.348257006151, 17956.9, 9989.6, 17998.0, 27337.1, 7432.7, 19424.7, 10162.0, 10818.0, 13096.2, 11818.0, 10845.9, 11075.7, 19212.4, 11795.0, 35911.5, 15947.7, 11850.7, 17513.0, 17982.1, 8926.6, 14301.9, 10127.4, 11559.9, 16941.6, 15424.0, 19208.5, 14889.9, 11658.0, 10171.2, 13510.0, 19690.916666666664, 18261.2, 20711.2, 21732.8, 25567.3, 17318.0, 21003.8, 9818.4, 15863.5, 28289.4, 31391.333333333332, 10867.9, 25463.1, 27686.7, 34114.7, 10500.2, 23102.1, 17190.1, 9449.4, 10107.4, 17482.2, 24960.7, 7271.4, 21053.5, 15701.1, 24873.3, 14265.0, 15006.9, 19599.4, 11155.7, 24589.2, 17808.2, 30906.6, 12888.2, 9690.3, 11461.1, 27680.60833333333, 15257.4, 21229.9, 12443.6, 11270.1, 13435.6, 17832.5, 11398.8, 14181.5, 12157.5, 18595.0, 20846.1, 17836.1, 9071.5, 14495.2, 5886.8, 13869.4, 18167.9, 26226.433333333338, 23892.5, 15290.5, 17022.2, 7689.0, 13333.7, 22531.0, 16474.0, 20558.2, 9076.5, 6871.2, 23243.6, 18149.216666666667, 11786.8, 26024.8, 16442.1, 17062.0, 2566.2, 18634.7, 21782.9, 28672.7, 23196.8, 15944.6, 28885.8, 21066.8, 32173.0, 15166.1, 11961.5, 18095.66, 13592.8, 14193.2, 12931.7, 10846.2, 27524.9, 19003.4, 13424.1, 19558.2, 19775.2, 9603.7, 15634.2, 26534.4, 15406.4, 12327.5, 32124.4, 21070.0, 24531.0, 28755.0, 10444.2, 6426.3, 10082.2, 8827.1, 21775.9, 9323.066666666666, 9048.9, 16328.0, 21596.8, 27501.6, 19428.9, 13353.8, 8890.8, 25010.0, 14925.5, 10176.4, 8423.0, 10054.3, 32203.6, 18682.5, 14056.1, 20196.2, 32444.9, 21119.3, 14992.0, 20838.8, 11864.6, 34542.5, 15771.3, 32991.0, 20118.9, 24582.3, 23285.3, 12199.2, 11400.2, 12618.3, 11790.4, 32521.9, 17367.2, 10241.9, 11479.9, 18894.3, 19027.4, 25379.4, 8259.2, 15634.1, 12834.2, 9177.5, 13012.5, 17390.8, 13689.0, 25450.2, 11891.0, 12431.333333333334, 24521.6, 14904.8, 12024.8, 14413.7, 25845.4, 9701.2, 18192.2, 10744.6, 32542.5, 7794.4, 6617.5, 8244.4, 13387.4, 9795.0, 15252.0, 15945.4, 8234.0, 13815.3, 13453.1, 10844.748067210567, 19286.1, 21782.9, 23322.3, 16395.3, 13194.557142857142, 23634.0, 13283.1, 25985.2, 10966.5, 9248.3, 22486.6, 22387.9, 13068.3, 19847.7, 18643.6, 21098.2, 9422.5, 11439.7, 28923.97768897769, 13449.5, 19410.15, 45450.0, 15604.4, 11158.8, 7760.2, 13483.9, 9670.4, 6210.0, 19602.816666666662, 8784.5, 18848.9, 16817.0, 16998.4, 11330.7, 16325.8, 13952.2, 35192.0, 33998.5, 29155.0, 15682.5, 20495.0, 16075.0, 10051.4, 13021.6, 11628.9, 14063.0, 19591.6, 8962.4, 18722.8, 19664.0, 21663.3, 32948.4, 19432.7, 6855.1, 8724.5, 8012.4, 17646.2, 19356.4, 14906.0, 8765.0, 8705.7, 14692.3, 10248.7, 20671.4, 15041.0, 17305.5, 10035.0, 20469.9, 15746.9, 33391.0, 25433.9, 18836.9, 9412.8, 11159.5, 8302.5, 18022.0, 12624.7, 36921.8, 20459.6, 9723.9, 26465.6, 10786.0, 22168.7, 7423.6, 19096.3, 9727.5, 8623.5, 7143.0, 25083.3, 16689.3, 9654.8, 16662.8, 7794.6, 19728.7, 8102.6, 15791.0, 18098.4, 13065.6, 16888.8, 21245.0, 10155.9, 11809.0, 15119.5, 11359.5, 7564.8, 7147.2, 31458.5, 13150.2, 13989.2, 17752.9, 26365.7, 23925.8, 13429.6, 12550.5, 21538.3, 9597.8, 15832.3, 10796.8, 9411.7, 14034.4, 20880.0, 12214.1, 24018.7, 43650.3, 16248.499999999996, 36997.1, 22023.8, 22514.2, 19842.7, 5774.3, 13579.0, 19870.3, 17438.7, 27548.0, 12076.4, 22242.2, 20793.2, 22202.4, 7683.3, 18543.1, 26550.2, 11155.3, 17074.7, 19117.2, 9538.7, 31714.0, 16767.0, 34941.5, 17490.8, 18844.5, 30317.4, 20300.68333333333, 9827.4, 15085.5, 10187.5, 10457.2, 12153.5, 32339.5, 18378.1, 18789.0, 16633.0, 21527.1, 12998.2, 13658.8, 25827.4, 9769.4, 24545.5, 18286.3, 12546.9, 17702.7, 12276.45, 26172.4, 6542.1, 10098.6, 6209.4, 10328.4, 9387.2, 13243.0, 11533.4, 13827.4, 19601.5, 16985.5, 11637.1, 12611.0, 5539.4, 32976.2, 13396.7, 14037.4, 21126.7, 10140.960317460318, 9896.0, 12984.8, 9154.0, 21593.401666666665, 14992.0, 13606.0, 30613.8, 18887.8, 19858.0, 19430.1, 11572.5, 43789.6, 19201.5, 13611.0, 7131.2, 10844.748067210567, 12006.5, 14504.3, 19631.8, 13640.5, 41689.3, 19697.5, 14521.6, 9592.45, 26635.7, 22744.4, 17660.2, 14739.0, 22515.2]\n"
     ]
    }
   ],
   "source": [
    "y_pred4 = regressor4.predict(x_test)\n",
    "print(list(y_pred4))"
   ]
  },
  {
   "cell_type": "code",
   "execution_count": 51,
   "metadata": {},
   "outputs": [
    {
     "name": "stdout",
     "output_type": "stream",
     "text": [
      "[23500, 19990, 10395, 19995, 16298, 14490, 19795, 12681, 12495, 27990, 9495, 10998, 16290, 27500, 17495, 22061, 25990, 3195, 23990, 4998, 16995, 18500, 17217, 13497, 10000, 38990, 10991, 14498, 26994, 9490, 16991, 12498, 7990, 10491, 16990, 11000, 24999, 7495, 28995, 12791, 33489, 14980, 19290, 8995, 9990, 28490, 11500, 29995, 19298, 8995, 10990, 10800, 14795, 33785, 15000, 13290, 19152, 9450, 15950, 16093, 35500, 13998, 4995, 18199, 25200, 20990, 18999, 18990, 26000, 24995, 8000, 17950, 22999, 14499, 18769, 10891, 9727, 8971, 9291, 13000, 14990, 18781, 25386, 12990, 11995, 19485, 19889, 9489, 45490, 7100, 14689, 9250, 9550, 9699, 22995, 21990, 13441, 20998, 20990, 10495, 22500, 27990, 29250, 10400, 22999, 16490, 9449, 2750, 7498, 32995, 11490, 14490, 9881, 11490, 17295, 28990, 9690, 33999, 23990, 20000, 19522, 25995, 29990, 10790, 35995, 27995, 10990, 17498, 19950, 31750, 22490, 10000, 19086, 18500, 18191, 19499, 10999, 13298, 36995, 5499, 6999, 13334, 26791, 12090, 13199, 23485, 20495, 17704, 20950, 31950, 11502, 10498, 12690, 13750, 44450, 11495, 24990, 30999, 23996, 7399, 16298, 20490, 15286, 16790, 22999, 8790, 16406, 26490, 18990, 11990, 32998, 12751, 8482, 42162, 10700, 21999, 16910, 41495, 17298, 31495, 27999, 14797, 16490, 14490, 19990, 18980, 18488, 19500, 6290, 11750, 19200, 15798, 18995, 17995, 18990, 21892, 9998, 19990, 24990, 10991, 21630, 25990, 28995, 9500, 12499, 19995, 26498, 17985, 19995, 4999, 10972, 6998, 8891, 10151, 8690, 12911, 25995, 7898, 26691, 9995, 4998, 9495, 15991, 17998, 18000, 19495, 10350, 6990, 19780, 9610, 11242, 12425, 19450, 9990, 28950, 8489, 7795, 14290, 16498, 13495, 19500, 14298, 19999, 12900, 25995, 25900, 9200, 22995, 14000, 16995, 17490, 15995, 7250, 12750, 24300, 7490, 18250, 11532, 30725, 14950, 13290, 14998, 10180, 42995, 12000, 14491, 8991, 29000, 22990, 19231, 8495, 10989, 18695, 9790, 16290, 9490, 15990, 12250, 12630, 15999, 10298, 43652, 31590, 11695, 22499, 9998, 28999, 14490, 13990, 6998, 19995, 20999, 19998, 8510, 9990, 13000, 6500, 12600, 9990, 15982, 13499, 17298, 10000, 13990, 8999, 21495, 34999, 13995, 23282, 18999, 16950, 27798, 4495, 13998, 17000, 16500, 15680, 30600, 9952, 15990, 24698, 14790, 7690, 7800, 7500, 13490, 14741, 8995, 17999, 7691, 16490, 31995, 9040, 23995, 22790, 14498, 21232, 8499, 18490, 22480, 8891, 5998, 24000, 28495, 20998, 28950, 21229, 20490, 9798, 10891, 9998, 13600, 16995, 19490, 27995, 11600, 7750, 15350, 12140, 19999, 43999, 25495, 22998, 13795, 17000, 15186, 17151, 19590, 35990, 19841, 23390, 17500, 14350, 15899, 13399, 17000, 5969, 8442, 24990, 11800, 19995, 10499, 26985, 8780, 10999, 12991, 20990, 13399, 19990, 7851, 10012, 12995, 19356, 27998, 17250, 9495, 16990, 24676, 10495, 9900, 27999, 27995, 13649, 9700, 22501, 9998, 6399, 17995, 13450, 25995, 10990, 32998, 22490, 13000, 12740, 10000, 6770, 12990, 21998, 17742, 8995, 9698, 9980, 30995, 25495, 18990, 12750, 25785, 19849, 15990, 17995, 15950, 8800, 9960, 10815, 10930, 16990, 8711, 10995, 14782, 9980, 17298, 11500, 4495, 27111, 29795, 29995, 20880, 19999, 18240, 33990, 12000, 18991, 9600, 12200, 31990, 14398, 8233, 8991, 32290, 27444, 29399, 20498, 4495, 15498, 25990, 28754, 15157, 14990, 15490, 11950, 13390, 27950, 10401, 20490, 16401, 23646, 20950, 19995, 12891, 11490, 14990, 10480, 11998, 26587, 29995, 18495, 13995, 5763, 16698, 23495, 9698, 6650, 11480, 9995, 19860, 10000, 19200, 19965, 8900, 14990, 12712, 16998, 16698, 4889, 22495, 24990, 12795, 19599, 18350, 9995, 21795, 26490, 10495, 19995, 14980, 21182, 34500, 11799, 14295, 25851, 33495, 9000, 11298, 16998, 22950, 26995, 23499, 27995, 26250, 18998, 22450, 6995, 10991, 27980, 22147, 15498, 11995, 15970, 7748, 5395, 11298, 17298, 22390, 17995, 27995, 29995, 23495, 9495, 42990, 18790, 9295, 20650, 20998, 30999, 29980, 18995, 12790, 23999, 8498, 5298, 20995, 16862, 8990, 9000, 10360, 33357, 10490, 23250, 23999, 14290, 24495, 22262, 9500, 12937, 24549, 17298, 17000, 12780, 24999, 20298, 30480, 18500, 19750, 22995, 23975, 10799, 13000, 20499, 19290, 23999, 16995, 13799, 5999, 20990, 22990, 18999, 6790, 31010, 9992, 11490, 25499, 21990, 7652, 10190, 8000, 16790, 15299, 17498, 21490, 3299, 16380, 8950, 17900, 18450, 29491, 19990, 16995, 18000, 29500, 13495, 4995, 19998, 14690, 9000, 19498, 12995, 20995, 6750, 13495, 9799, 10400, 33489, 11299, 10995, 30990, 20990, 7600, 11990, 15999, 13241, 16750, 12495, 22990, 10495, 14250, 24990, 18699, 5394, 7950, 8498, 30498, 19900, 21000, 19990, 8300, 12191, 8499, 26990, 16495, 18490, 9490, 17980, 7695, 14802, 8590, 21499, 5500, 26990, 7490, 27790, 8150, 8465, 11895, 17990, 22691, 15995, 6295, 21995, 14300, 12810, 21550, 12500, 12350, 8997, 14798, 7998, 12000, 9390, 4298, 7750, 17385, 18850, 6980, 22788, 28895, 13695, 20499, 11390, 23777, 28699, 21995, 19689, 6990, 24995, 12499, 16494, 13776, 19750, 9990, 23490, 11170, 39923, 13400, 14500, 14578, 8965, 15495, 10000, 20900, 24750, 14999, 10300, 22062, 20492, 17891, 21642, 16990, 10466, 22240, 12995, 16450, 12142, 27799, 13499, 12500, 22785, 49000, 11290, 20489, 32220, 14499, 17850, 18490, 9990, 17000, 14995, 9950, 15400, 19995, 14750, 13500, 19495, 16450, 24989, 25480, 12220, 21645, 18490, 10995, 20000, 18000, 6495, 57991, 29400, 22950, 27998, 26950, 22650, 17490, 34995, 9850, 18485, 17990, 8799, 55999, 13782, 13995, 12998, 31495, 16698, 7698, 6991, 17298, 31490, 19597, 20490, 16500, 10495, 23490, 11290, 17995, 24300, 12291, 12289, 19995, 14495, 11491, 7998, 9995, 16950, 10995, 17450, 18999, 22901, 15350, 14495, 10300, 11495, 20000, 8950, 6498, 10495, 21990, 13990, 6995, 13450, 5295, 12950, 14650, 15990, 10355, 8690, 23990, 20750, 18495, 14750, 9291, 26691, 10489, 11995, 8795, 24490, 19606, 5995, 20499, 20996, 12000, 16490, 23152, 10999, 5491, 32840, 21990, 16950, 5499, 5990, 14999, 6199, 13701, 13995, 11750, 28840, 9300, 17482, 12698, 18957, 11950, 8990, 9850, 7990, 13000, 12998, 15895, 9250, 7850, 8998, 15491, 8380, 2295, 16980, 22995, 26950, 19230, 11520, 30737, 22995, 14990, 23495, 13880, 18678, 25290, 3495, 35000, 9890, 22500, 17300, 16889, 21000, 17985, 9163, 18500, 10499, 21995, 10995, 5899, 34995, 20000, 20981, 8407, 23495, 19995, 12520, 15995, 22498, 20500, 11499, 4498, 20998, 25490, 17998, 12591, 17990, 6995, 9698, 20999, 21995, 34900, 9891, 18000, 21991, 19190, 10990, 15950, 7998, 9245, 22000, 12162, 3480, 18498, 12990, 7490, 18795, 10690, 10500, 16880, 12791, 18990, 19495, 10490, 11995, 13998, 14991, 12850, 7750, 27990, 21399, 15995, 9580, 16498, 8998, 7990, 33841, 12995, 20298, 13700, 10680, 44999, 21795, 26390, 15290, 14990, 17991, 6191, 10190, 21092, 1295, 26995, 21495, 12990, 20490, 18690, 22490, 23490, 11322, 20995, 7799, 20990, 27995, 17298, 19299, 12290, 29590, 17675, 22300, 5998, 7890, 18495, 19890, 17298, 19750, 10399, 19000, 11999, 22790, 15550, 8995, 23799, 17298, 19998, 18998, 11992, 8082, 16940, 10391, 17890, 6300, 12975, 10490, 11500, 12995, 12135, 25299, 16998, 7875, 16730, 14990, 26200, 7690, 31000, 23499, 21480, 13489, 15370, 9990, 9698, 21990, 19817, 24724, 16989, 21490, 16442, 18490, 10162, 12495, 16998, 21290, 13395, 9399, 11990, 14990, 21495, 10998, 17750, 16000, 14990, 6800, 11000, 9762, 10300, 15900, 15495, 11290, 9150, 28800, 30950, 10290, 18000, 13698, 27500, 15590, 35000, 5799, 46990, 24292, 7490, 21495, 11520, 11650, 14495, 19995, 4295, 11490, 23798, 11450, 22990, 19499, 22599, 10798, 16232, 12725, 19995, 12965, 19950, 4399, 13350, 17770, 23999, 21400, 19540, 12998, 32299, 20995, 23290, 17500, 12850, 18991, 10000, 17499, 19490, 25590, 9998, 8000, 27990, 9495, 3980, 8895, 22230, 9998, 11260, 15494, 19495, 7990, 26790, 29490, 20450, 9490, 7400, 12850, 24495, 21750, 9149, 12900, 17390, 12750, 19691, 10495, 17000, 17990, 8999, 2250, 23975, 10699, 12490, 11200, 40499, 7440, 13291, 9690, 19478, 17995, 16190, 12800, 22450, 19400, 11495, 27999, 10990, 30785, 8700, 16490, 16798, 7493, 24495, 22712, 10990, 11750, 12995, 9900, 26995, 5999, 8500, 8498, 9250, 26990, 11989, 12590, 13250, 29690, 12999, 18400, 16998, 29799, 9999, 21995, 8600, 12806, 13251, 18995, 20500, 11995, 14990, 5700, 25500, 20995, 6490, 14790, 21495, 21990, 31291, 15999, 9000, 7499, 16498, 16000, 18900, 10990, 17499, 16991, 17995, 10290, 15497, 25790, 13250, 18795, 19282, 8190, 14450, 26990, 19995, 19391, 19765, 20990, 23447, 10998, 7958, 19950, 24498, 12500, 19890, 16699, 9990, 9999, 23999, 19290, 13975, 10991, 13500, 3495, 16302, 11412, 11500, 14000, 40000, 11800, 20490, 31995, 27190, 24647, 10401, 18480, 13330, 13250, 22750, 26062, 20992, 19491, 20450, 7500, 14395, 9495, 21331, 13498, 13191, 9949, 5299, 21498, 10995, 11795, 9495, 19490, 12990, 14995, 12490, 9282, 17450, 15200, 12490, 16995, 14498, 19495, 21075, 10495, 28995, 17250, 10850, 23991, 19998, 15250, 10182, 20687, 15690, 9790, 19231, 18995, 19022, 11000, 13300, 14990, 11391, 13990, 19406, 20995, 14600, 12685, 10172, 11495, 16990, 23000, 13199, 15499, 10799, 11490, 18900, 18481, 24990, 13500, 42990, 19700, 28990, 27995, 10950, 11000, 52995, 17000, 16850, 12590, 19998, 11490, 7940, 7990, 12650, 12999, 14500, 12950, 14950, 22841, 17499, 16994, 26990, 20498, 8791, 6995, 26000, 13500, 10990, 9245, 8995, 13749, 18890, 17995, 17788, 30490, 15799, 11700, 9200, 6995, 18990, 14995, 22990, 33990, 23916, 17298, 21498, 32285, 11990, 28151, 16198, 6991, 21999, 7995, 10490, 31490, 12000, 21989, 17391, 7995, 16450, 21990, 27499, 16192, 20000, 11699, 31995, 10300, 12000, 7551, 7345, 27995, 8846, 7990, 21411, 18900, 21495, 22790, 24690, 7798, 14780, 10500, 5490, 12100, 12295, 10899, 22000, 16890, 6199, 16462, 10995, 11999, 24250, 9799, 32727, 10490, 7999, 10990, 18499, 20500, 34490, 17999, 23495, 13000, 25995, 10350, 18290, 27695, 23950, 10895, 22990, 18191, 27999, 14499, 15700, 11790, 14795, 25890, 10998, 12450, 25750, 17995, 7790, 8999, 12650, 16475, 24995, 22889, 27000, 9995, 8950, 10670, 27990, 29995, 26490, 44880, 30490, 57991, 14965, 9750, 7441, 10495, 14998, 14885, 10399, 14900, 10000, 9500, 6600, 16795, 25750, 17990, 11999, 22995, 11900, 15999, 19995, 6950, 34999, 12980, 12989, 18200, 32990, 20990, 19990, 17495, 9020, 12150, 22490, 9490, 12490, 14499, 44980, 17500, 9990, 9600, 29699, 24881, 9200, 17450, 18950, 16950, 16480, 11850, 16262, 9595, 14940, 8500, 11995, 20180, 17499, 17298, 26360, 14490, 10695, 24990, 8999, 11999, 16250, 17000, 6871, 39995, 15150, 19450, 22741, 7499, 13998, 26995, 21500, 8490, 19190, 22000, 16998, 11655, 8790, 20495, 9995, 8995, 12219, 15390, 16771, 10835, 7499, 18495, 12282, 37381, 7290, 5995, 17521, 9499, 10952, 14495, 8998, 21891, 11490, 19990, 26498, 11491, 20950, 12300, 3995, 10282, 21421, 15990, 11490, 7950, 26990, 19749, 8491, 16995, 26995, 17490, 10750, 23495, 9698, 8950, 10799, 12751, 32999, 16990, 15985, 16979, 9995, 7330, 8690, 13995, 15000, 17450, 18591, 8999, 15299, 21650, 15871, 19541, 31989, 25352, 38495, 19998, 6495, 9452, 7832, 30495, 15995, 27295, 12990, 9132, 7741, 31899, 20450, 15189, 10120, 17000, 20990, 7350, 28991, 9650, 17490, 18950, 19998, 40802, 28590, 19298, 6975, 14999, 32965, 9190, 20500, 11798, 11995, 10450, 36991, 9998, 13495, 11298, 27450, 21750, 45995, 8311, 17998, 34480, 11484, 18990, 17300, 26990, 14300, 22650, 12495, 22995, 18491, 21989, 22266, 18898, 15990, 12995, 19000, 10491, 18995, 5990, 11171, 20890, 28999, 23795, 11995, 6695, 14341, 14495, 18790, 18891, 12990, 22536, 15542, 13500, 6950, 21498, 9499, 13495, 18790, 17551, 20350, 18498, 21366, 16990, 26995, 3850, 4500, 19246, 10975, 8799, 10749, 15698, 22900, 17798, 12995, 8290, 12500, 8940, 22230, 9450, 13300, 8989, 11995, 18998, 10990, 8300, 20995, 21998, 15499, 14632, 8699, 23285, 9790, 18952, 20412, 10490, 13800, 14998, 10500, 8989, 17490, 7999, 18082, 10000, 19990, 10399, 14495, 9995, 6840, 22850, 17298, 27990, 12749, 12790, 12291, 15490, 12450, 10998, 9000, 11998, 21695, 26202, 10495, 23500, 18950, 16991, 12777, 12000, 11990, 12140, 21298, 23495, 8995, 24999, 32490, 8989, 23495, 14121, 19750, 13485, 25990, 23062, 18999, 29990, 11990, 12290, 10495, 29999, 29990, 15231, 13170, 13498, 13661, 31000, 17995, 33991, 10940, 12799, 6295, 21995, 24950, 21500, 38000, 18999, 37995, 7995, 28757, 20353, 14690, 16017, 10995, 9000, 8498, 9995, 9990, 19791, 21699, 32995, 6290, 3995, 12989, 11998, 7495, 44990, 17290, 9199, 16562, 44995, 9998, 24495, 7000, 22692, 10999, 13590, 10990, 12799, 9498, 8500, 18991, 19531, 32649, 18995, 16800, 13790, 20950, 18000, 10495, 9991, 20950, 7995, 15280, 11412, 8489, 14495, 17995, 18950, 12995, 16995, 15872, 9850, 19986, 16000, 18450, 14370, 6495, 9001, 16999, 24290, 12441, 26852, 15298, 11995, 15485, 20991, 14995, 19290, 23998, 24800, 22500, 5990, 21497, 14990, 12390, 19290, 18785, 33980, 11995, 13698, 12995, 8960, 12999, 19680, 13650, 25990, 9589, 23998, 30999, 20750, 14246, 37300, 37995, 18980, 9250, 20495, 6400, 9799, 15990, 11489, 11595, 19199, 4490, 22000, 24995, 23500, 22515, 8639, 23340, 39995, 27950, 11495, 4298, 25000, 13450, 10214, 26980, 23790, 37399, 8000, 13450, 11795, 28799, 18151, 28940, 13499, 24995, 8391, 13500, 9495, 21990, 17395, 14250, 17495, 12399, 6500, 7495, 9588, 14956, 15995, 10170, 20998, 16690, 10999, 51950, 25950, 13990, 12000, 27295, 12500, 9800, 25499, 11989, 25499, 15999, 6995, 41990, 9498, 6250, 18490, 36916, 54999, 28698, 8932, 12990, 17990, 10790, 26310, 7450, 9790, 12100, 15490, 9790, 34995, 10899, 16011, 17298, 8590, 7790, 22672, 15999, 19990, 7490, 18491, 19999, 23112, 17200, 9690, 9999, 46788, 16992, 13995, 21995, 23995, 12291, 10250, 8491, 12988, 11926, 20250, 2999, 17349, 17295, 24999, 13999, 9491, 12391, 14290, 7799, 9990, 22500, 32407, 13749, 14990, 4450, 21000, 14699, 5995, 25640, 13490, 9800, 10500, 7990, 10200, 12200, 23490, 28990, 13649, 5480, 26390, 14000, 14999, 10990, 17417, 10190, 17990, 28246, 14990, 11695, 19990, 16495, 26990, 19998, 10250, 20999, 15591, 13840, 13995, 30990, 11850, 22980, 13495, 11495, 26990, 11000, 12299, 21498, 5770, 28990, 10290, 20290, 9900, 7300, 7190, 10450, 30250, 7990, 16997, 25500, 26886, 11690, 9390, 8995, 13600, 9990, 8990, 17499, 20896, 13998, 14790, 17298, 6998, 29156, 19000, 19000, 13480, 11000, 30990, 21000, 7182, 19250, 9790, 17499, 19450, 10990, 9990, 8950, 12000, 6195, 27999, 13290, 12495, 9491, 24995, 17498, 19310, 15950, 24790, 11000, 22733, 33990, 9000, 8799, 8990, 20995, 11999, 8800, 9700, 10950, 11995, 19500, 12391, 16600, 5243, 13900, 9495, 7300, 18498, 19995, 11000, 9995, 12990, 16995, 10771, 9000, 20990, 17250, 9998, 21990, 16299, 9990, 11662, 10981, 13646, 9500, 29290, 18950, 19890, 12150, 29999, 17890, 11491, 18480, 8399, 13340, 22990, 8200, 13991, 25690, 9490, 4995, 10490, 33943, 12086, 23995, 44995, 15700, 13495, 20990, 20790, 12500, 7900, 22991, 11699, 24995, 11995, 19500, 13298, 11990, 15790, 15995, 5999, 13990, 11991, 7393, 29225, 18250, 27499, 32999, 14800, 17488, 41990, 18885, 18199, 8050, 10295, 10995, 14799, 13290, 17298, 7489, 26298, 25995, 8495, 7980, 14488, 12790, 33995, 14490, 13830, 31990, 15999, 5000, 9489, 6499, 8500, 16990, 8995, 25000, 17399, 12280, 10950, 42498, 26250, 7520, 24599, 16995, 21495, 11541, 35480, 12965, 11495, 13963, 18900, 18999, 11990, 16999, 18250, 13700, 13340, 11750, 26380, 17995, 21999, 11290, 6991, 10489, 9059, 13999, 12498, 20995, 6990, 29100, 21800, 28250, 7298, 18490, 25990, 20490, 20000, 9995, 13995, 20998, 5995, 14677, 15790, 19498, 19991, 31666, 14950, 12999, 8995, 26498, 24307, 32501, 11920, 10792, 16394, 12610, 16690, 7800, 14000, 10995, 17498, 8995, 22250, 10500, 29999, 28495, 9991, 16300, 19000, 7450, 17298, 19495, 8880, 8495, 15950, 17950, 21999, 32495, 12995, 7995, 6980, 38950, 23999, 9995, 7000, 21995, 21811, 14990, 11990, 9100, 12790, 26991, 19850, 20399, 18712, 9690, 12789, 23970, 23495, 20950, 11995, 15382, 18790, 6999, 17290, 19399, 14299, 36000, 16995, 10995, 16195, 22495, 18990, 18495, 19990, 9950, 48465, 44995, 16498, 10295, 8495, 20995, 8710, 7475, 8500, 23990, 13490, 9890, 22991, 28995, 13650, 19950, 7295, 13390, 13993, 8998, 7099, 9495, 6799, 14700, 9320, 22420, 41312, 15297, 19995, 24890, 15995, 28995, 9995, 23447, 24499, 9956, 27000, 7625, 11680, 11172, 49999, 20849, 32990, 24300, 29989, 39950, 11990, 8699, 10495, 11990, 9498, 14490, 9299, 16521, 8998, 28996, 18500, 20386, 20790, 6498, 5793, 22995, 25500, 25390, 29344, 12950, 18499, 19450, 14950, 33000, 10499, 22980, 8495, 14290, 16889, 14980, 15950, 21998, 5470, 15475, 12500, 12000, 24022, 24469, 14490, 9299, 15491, 14989, 9295, 12441, 24249, 12895, 10750, 18599, 9999, 15298, 29999, 9490, 27498, 25990, 13000, 26798, 20999, 13700, 13925, 13490, 16490, 18298, 22499, 10181, 22995, 16990, 27291, 28990, 16850, 26000, 7998, 26000, 30250, 11450, 20996, 11997, 21990, 18391, 9831, 36995, 8229, 17950, 21790, 6600, 14998, 10998, 7640, 18899, 15921, 10000, 19995, 20000, 13490, 6798, 14985, 30991, 6990, 15495, 7900, 25391, 24480, 21490, 16340, 7000, 6490, 10599, 45990, 10690, 11995, 8200, 14990, 10300, 20590, 10000, 12450, 18990, 10250, 19690, 23995, 20890, 14000, 8485, 18495, 20998, 12498, 11995, 8995, 21490, 17250, 24499, 14500, 9495, 14990, 47995, 12995, 20790, 22550, 39989, 22995, 12698, 24990, 24490, 8299, 8290, 22490, 13391, 13500, 24990, 14960, 14690, 17799, 16998, 16280, 13495, 10370, 12790, 18790, 10298, 4295, 24900, 19790, 9695, 40245, 25000, 15995, 32491, 31113, 10495, 9495, 10790, 26215, 12995, 9599, 27490, 6795, 9690, 11400, 11795, 10697, 22680, 17250, 7495, 35990, 34752, 25000, 19498, 25490, 8990, 12498, 14999, 22990, 14790, 10990, 8600, 20990, 27595, 31850, 7591, 12945, 23990, 18490, 17643, 26790, 13582, 7290, 13990, 15495, 16291, 9950, 16795, 15990, 21661, 19999, 15998, 24866, 15991, 9498, 39999, 25165, 12250, 10200, 13999, 27395, 11500, 16110, 11495, 21012, 18000, 19450, 29000, 8492, 20498, 27989, 12498, 13698, 11995, 13795, 29995, 8000, 7280, 26840, 22980, 13650, 9499, 14990, 23798, 19090, 19998, 10491, 6750, 21495, 16999, 10062, 21990, 4495, 18485, 17490, 12999, 16391, 18950, 25890, 24890, 8199, 13000, 10950, 5995, 11690, 33799, 17995, 12695, 22995, 9950, 5450, 14495, 12500, 21990, 15999, 17500, 9999, 10500, 13795, 24989, 11943, 17990, 23498, 4440, 11650, 10995, 18290, 18587, 8998, 12791, 24990, 6000, 12371, 18690, 29885, 21995, 7875, 9991, 4699, 23715, 18995, 19985, 10790, 11100, 24500, 8450, 17950, 3495, 14000, 11995, 9495, 11500, 10050, 41995, 19999, 10995, 9290, 26295, 12998, 20945, 11000, 16995, 19989, 42405, 24411, 21990, 13000, 48990, 11995, 8991, 22491, 4797, 15998, 10950, 17295, 11498, 9980, 12149, 18950, 15995, 10390, 9491, 15690, 8480, 14000, 19498, 18610, 22495, 12300, 13999, 29000, 9998, 23498, 18495, 23999, 13990, 21276, 11995, 18792, 25000, 15490, 22990, 18989, 18956, 6998, 20990, 17899, 6500, 11852, 17999, 14000, 6962, 13490, 16042, 8495, 7599, 12495, 21664, 17995, 25999, 13650, 26396, 9690, 12799, 7994, 36990, 23989, 9490, 19499, 21995, 17990, 32493, 12290, 21799, 27499, 6298, 9490, 22990, 2695, 11590, 16995, 12000, 11000, 10000, 18990, 12698, 26980, 15752, 11995, 7990, 5770, 10688, 14075, 18600, 7698, 9950, 17995, 17495, 2999, 9490, 3490, 25495, 26995, 21999, 7500, 14485, 11390, 18491, 19995, 14995, 15979, 20490, 19999, 10795, 9690, 18900, 16995, 19590, 19800, 8698, 8102, 12000, 15498, 9498, 4991, 20995, 19980, 8650, 12498, 8495, 28495, 10990, 22950, 30990, 11962, 8699, 8100, 17390, 12995, 27498, 11880, 17395, 8298, 22446, 10940, 9541, 9390, 3750, 6488, 7995, 26990, 21991, 16495, 26790, 22990, 20999, 16981, 20998, 7295, 7450, 12990, 21799, 14998, 10291, 17750, 12990, 11999, 22000, 22972, 14295, 14498, 15695, 8495, 13990, 8500, 22990, 16995, 32364, 23750, 25312, 23790, 23990, 15492, 19990, 23588, 10500, 26491, 44499, 18500, 21998, 16862, 11500, 14750, 17591, 6990, 23999, 13498, 8965, 17500, 23554, 28999, 26989, 5340, 13490, 11000, 13698, 11200, 26930, 22479, 43995, 22290, 18780, 19390, 12950, 22498, 16656, 23740, 11490, 18155, 12995, 10550, 43990, 20990, 9890, 10990, 8041, 22950, 14990, 8690, 13250, 9342, 5495, 14382, 6241, 42000, 8250, 15652, 16999, 16790, 8432, 8922, 16995, 19795, 7492, 19000, 36995, 17990, 25498, 24670, 8200, 10990, 5221, 24450, 12799, 25490, 12995, 16795, 12298, 10407, 37990, 11450, 8940, 19490, 8995, 30850, 13495, 16285, 10490, 24900, 9890, 19695, 10990, 22995, 16950, 22690, 17995, 18872, 7797, 12790, 11000, 20991, 12600, 15998, 9295, 12390, 14498, 12999, 15995, 30441, 25741, 25990, 11850, 7495, 17695, 19000, 12295, 21599, 14321, 9399, 11998, 9999, 20995, 9495, 57991, 22794, 5510, 16134, 12300, 16979, 9450, 12590, 21995, 14595, 18500, 18798, 10495, 11912, 20246, 18990, 17500, 21990, 8840, 12250, 17490, 9998, 28300, 20282, 18990, 12791, 29399, 23741, 29299, 25980, 23270, 8599, 7795, 10999, 15300, 9650, 14789, 11199, 12950, 6865, 21000, 7698, 20591, 9889, 13250, 9790, 29790, 16995, 14895, 10500, 9999, 19799, 16895, 14999, 19300, 8862, 10500, 17995, 7695, 17298, 14990, 21299, 28999, 32399, 11711, 20490, 17790, 10400, 10350, 30999, 10000, 14995, 19450, 18995, 32500, 16690, 10450, 19250, 10691, 8299, 17499, 8998, 25990, 20000, 14995, 25990, 10912, 6290, 8495, 27495, 10699, 16990, 11999, 16698, 12296, 15372, 29990, 25985, 36850, 17999, 31995, 16798, 26090, 20995, 12599, 25192, 13000, 18990, 17998, 9995, 17298, 29750, 16895, 13000, 21998, 24481, 10650, 21890, 17995, 11950, 8699, 16800, 19990, 11990, 13490, 22625, 9995, 9950, 9698, 10291, 16490, 9225, 13498, 13950, 12490, 10400, 4650, 36999, 49999, 25450, 11250, 19990, 23950, 13690, 27495, 11698, 18760, 22350, 19998, 26990, 12200, 18495, 10498, 17990, 14000, 33000, 19990, 23995, 10501, 6766, 28490, 12300, 13295, 29371, 13990, 32990, 19490, 14270, 18995, 14490, 7995, 18495, 10470, 11465, 12995, 13490, 13791, 24998, 9291, 12995, 28900, 9749, 19798, 34995, 27930, 31498, 10452, 28999, 19900, 13500, 4991, 15490, 11600, 8990, 14698, 18185, 16591, 20890, 10640, 11860, 14450, 10221, 10895, 9700, 4920, 28500, 19590, 18998, 7820, 27698, 11495, 11495, 19798, 6080, 28989, 23890, 14495, 14000, 7495, 19999, 24490, 10995, 12699, 12998, 27371, 15995, 12950, 25990, 14300, 22846, 19990, 17500, 49980, 8499, 14890, 27290, 11150, 19499, 12122, 11950, 17584, 8000, 15995, 25990, 29790, 27999, 6700, 22083, 12750, 20798, 16498, 22342, 12995, 25990, 22500, 7998, 16499, 9795, 27490, 28895, 9950, 10298, 14990, 13552, 15495, 10097, 20899, 19690, 14371, 25000, 17000, 7399, 9495, 7690, 5970, 10999, 12990, 19000, 6499, 19850, 19200, 27995, 26995, 28995, 15995, 15390, 12990, 10471, 5500, 14990, 12199, 17998, 25490, 31066, 7622, 5750, 23900, 10585, 13995, 18995, 17495, 29490, 29152, 18999, 13995, 19980, 15219, 26295, 9400, 7990, 8995, 12190, 12359, 8798, 6118, 10495, 20991, 22474, 17298, 7999, 10989, 24995, 24637, 10495, 9869, 10883, 15994, 26995, 9542, 6500, 11475, 12490, 47965, 11498, 13000, 13999, 31990, 18000, 12495, 18950, 7362, 11595, 44990, 21989, 17987, 13789, 18491, 25595, 14591, 12990, 11995, 7222, 19998, 7499, 15440, 15995, 27182, 17498, 10995, 9450, 17620, 26998, 29999, 23999, 12995, 8998, 17498, 12802, 14995, 20092, 15126, 23498, 15298, 11990, 12250, 17500, 11298, 11950, 6675, 11990, 11795, 11231, 10990, 20481, 9991, 17241, 21750, 8465, 21000, 9770, 10998, 13795, 12491, 10199, 10200, 17298, 10999, 34950, 16995, 13490, 17495, 15000, 7199, 13990, 10500, 11990, 17495, 14561, 18242, 15750, 10998, 10495, 13745, 19790, 16500, 20880, 24250, 22995, 17298, 20979, 9700, 14690, 28491, 30498, 10000, 28890, 27990, 36990, 9950, 21700, 17941, 9995, 9502, 14971, 25790, 6295, 20292, 14300, 25990, 15192, 15500, 18000, 11349, 23800, 17798, 31790, 12290, 8393, 11070, 30491, 15991, 20987, 11990, 11399, 12900, 18698, 10295, 13000, 12690, 18750, 22780, 18995, 9450, 16999, 5799, 13498, 17499, 26750, 25980, 13500, 18422, 8298, 13485, 19400, 19000, 20989, 7750, 6390, 21790, 21450, 11292, 26000, 19000, 17500, 2350, 23290, 20750, 27998, 21502, 15995, 30991, 22490, 32995, 15640, 12002, 18995, 13481, 12500, 12995, 9800, 24990, 18995, 12999, 18500, 19499, 9290, 15995, 26995, 14995, 13495, 33695, 22295, 25990, 28990, 9999, 6100, 9995, 8899, 19450, 8750, 9495, 17000, 21489, 33950, 18990, 13498, 7999, 23750, 16000, 8980, 7800, 10000, 32290, 22995, 13995, 17999, 33074, 19991, 15995, 20995, 13800, 29995, 15690, 34890, 18798, 25990, 22992, 12490, 10891, 12000, 12400, 33850, 17298, 10795, 12000, 17290, 19872, 26990, 7388, 15870, 12300, 8990, 11987, 16567, 13298, 24990, 11695, 12291, 24790, 13290, 11500, 11490, 23995, 10500, 16995, 10990, 31950, 7393, 6999, 8995, 13495, 10250, 14437, 14995, 7971, 13799, 13211, 10995, 20000, 20995, 21000, 15299, 13490, 22995, 12701, 26190, 11290, 8999, 19495, 21499, 16995, 19990, 17498, 19454, 9750, 11298, 30490, 12999, 18990, 45450, 14960, 11498, 8000, 13990, 10099, 5990, 17491, 9440, 18795, 16889, 16495, 10946, 15887, 14995, 35250, 34790, 29999, 16491, 22500, 12995, 10790, 10700, 11695, 14495, 17999, 7495, 22800, 18498, 24795, 32495, 20290, 6999, 7800, 7492, 17495, 19990, 14950, 8999, 8495, 15500, 9800, 20495, 14990, 18822, 9895, 19441, 17599, 32390, 29991, 16500, 8150, 12490, 7850, 19290, 16995, 36650, 20390, 9290, 25998, 9690, 27990, 6998, 19498, 10172, 7699, 7150, 23299, 16590, 9992, 16480, 7393, 17999, 7995, 16590, 17890, 11999, 16490, 24995, 9991, 12991, 14998, 12500, 7765, 7480, 28612, 12995, 13491, 17100, 25990, 24290, 14750, 11989, 21206, 9750, 13245, 10990, 8995, 13590, 18990, 10990, 24590, 44190, 16995, 33495, 22990, 21444, 11900, 4795, 14000, 18995, 17298, 27998, 12291, 19990, 19490, 21995, 7689, 18491, 27207, 9999, 16332, 16999, 9800, 32491, 17564, 32030, 17490, 21989, 28242, 18490, 9795, 14000, 10990, 10695, 12495, 31995, 19800, 18700, 17690, 21600, 12750, 15990, 26495, 8490, 23495, 18990, 11798, 19990, 12995, 27745, 6500, 9750, 5799, 10100, 8500, 12995, 13790, 13885, 19990, 17298, 11495, 12690, 6290, 32990, 13940, 14495, 21995, 10200, 9498, 12180, 9995, 19290, 14350, 12998, 31995, 18998, 21390, 11995, 12001, 46450, 18990, 11750, 7500, 9990, 11700, 13995, 19439, 16499, 42989, 20500, 16495, 9493, 26000, 21000, 14995, 17675, 25490]\n"
     ]
    }
   ],
   "source": [
    "print(list(y_test))"
   ]
  },
  {
   "cell_type": "markdown",
   "metadata": {},
   "source": [
    "### It can be seen that the actual price of the car is similar to the predicted price of the car."
   ]
  }
 ],
 "metadata": {
  "kernelspec": {
   "display_name": "Python 3",
   "language": "python",
   "name": "python3"
  },
  "language_info": {
   "codemirror_mode": {
    "name": "ipython",
    "version": 3
   },
   "file_extension": ".py",
   "mimetype": "text/x-python",
   "name": "python",
   "nbconvert_exporter": "python",
   "pygments_lexer": "ipython3",
   "version": "3.8.5"
  }
 },
 "nbformat": 4,
 "nbformat_minor": 4
}
